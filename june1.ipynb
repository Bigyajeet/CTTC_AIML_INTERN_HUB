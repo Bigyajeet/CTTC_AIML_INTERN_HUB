{
 "cells": [
  {
   "cell_type": "code",
   "execution_count": 1,
   "id": "699bb3d9-1f7e-4c93-8dbc-c6a9783380b4",
   "metadata": {},
   "outputs": [],
   "source": [
    "import numpy as np"
   ]
  },
  {
   "cell_type": "markdown",
   "id": "6231cb7d-b938-4ab0-9c73-cc241fa0f82f",
   "metadata": {},
   "source": [
    "<h1>creating array from list</h1>"
   ]
  },
  {
   "cell_type": "code",
   "execution_count": 2,
   "id": "0c9efd7a-b65c-4253-b869-9851373b6047",
   "metadata": {
    "scrolled": true
   },
   "outputs": [
    {
     "name": "stdout",
     "output_type": "stream",
     "text": [
      "[ 1  2  3 45  6]\n"
     ]
    }
   ],
   "source": [
    "a1d=np.array([1,2,3,45,6])\n",
    "print(a1d)"
   ]
  },
  {
   "cell_type": "code",
   "execution_count": 3,
   "id": "ddc4ffef-6876-4879-b742-3d6d71c0f0d1",
   "metadata": {},
   "outputs": [
    {
     "name": "stdout",
     "output_type": "stream",
     "text": [
      "[[ 1  2  3 45  6]\n",
      " [ 1  2  3 45  6]]\n"
     ]
    }
   ],
   "source": [
    "a2d=np.array([[1,2,3,45,6],[1,2,3,45,6]])\n",
    "print(a2d)"
   ]
  },
  {
   "cell_type": "code",
   "execution_count": 5,
   "id": "5fbf2e06-daaa-4add-93c5-3215ebc98932",
   "metadata": {},
   "outputs": [
    {
     "name": "stdout",
     "output_type": "stream",
     "text": [
      "[2 4 6]\n"
     ]
    }
   ],
   "source": [
    "np_array=np.array([1,2,3])\n",
    "print(np_array*2)#element wise multiplication"
   ]
  },
  {
   "cell_type": "code",
   "execution_count": 9,
   "id": "6532453c-469b-47fe-9954-f492476857af",
   "metadata": {},
   "outputs": [
    {
     "name": "stdout",
     "output_type": "stream",
     "text": [
      "0.01598191261291504\n"
     ]
    }
   ],
   "source": [
    "\n",
    "import time\n",
    "start=time.time()\n",
    "np_array=np.arange(1000000)*2\n",
    "print(time.time() - start)"
   ]
  },
  {
   "cell_type": "markdown",
   "id": "d922a3e0-b978-4d48-b572-0bdda6540000",
   "metadata": {},
   "source": [
    "<h1>creating array from sratch</h1>"
   ]
  },
  {
   "cell_type": "code",
   "execution_count": 10,
   "id": "8d4bd3e3-19f8-4723-ba69-c7e498c67b31",
   "metadata": {},
   "outputs": [
    {
     "name": "stdout",
     "output_type": "stream",
     "text": [
      "zeros array:\n",
      " [[0. 0. 0. 0.]\n",
      " [0. 0. 0. 0.]\n",
      " [0. 0. 0. 0.]]\n"
     ]
    }
   ],
   "source": [
    "zeros=np.zeros((3,4))\n",
    "print(\"zeros array:\\n\",zeros)"
   ]
  },
  {
   "cell_type": "code",
   "execution_count": 11,
   "id": "775e4a92-fa4b-45e6-b365-edf3c3caa2ec",
   "metadata": {},
   "outputs": [
    {
     "name": "stdout",
     "output_type": "stream",
     "text": [
      "ones array:\n",
      " [[1. 1. 1. 1.]\n",
      " [1. 1. 1. 1.]\n",
      " [1. 1. 1. 1.]]\n"
     ]
    }
   ],
   "source": [
    "ones=np.ones((3,4))\n",
    "print(\"ones array:\\n\",ones)"
   ]
  },
  {
   "cell_type": "code",
   "execution_count": 12,
   "id": "e5fd79c8-55b2-4ac7-a3c6-24bb4a2ce1f1",
   "metadata": {},
   "outputs": [
    {
     "name": "stdout",
     "output_type": "stream",
     "text": [
      "full array:\n",
      " [[36 36 36 36]\n",
      " [36 36 36 36]\n",
      " [36 36 36 36]]\n"
     ]
    }
   ],
   "source": [
    "\n",
    "#special array with full method\n",
    "full=np.full((3,4),36)\n",
    "print(\"full array:\\n\",full)"
   ]
  },
  {
   "cell_type": "code",
   "execution_count": 13,
   "id": "1df5321d-abcc-4c75-a99b-f51c9029ae83",
   "metadata": {},
   "outputs": [
    {
     "name": "stdout",
     "output_type": "stream",
     "text": [
      "random array:\n",
      " [[0.67131674 0.76296889 0.28866511 0.15985396]\n",
      " [0.20343079 0.44320299 0.09403467 0.14110336]\n",
      " [0.14961323 0.50354146 0.4041212  0.67752724]]\n"
     ]
    }
   ],
   "source": [
    "#random\n",
    "random=np.random.random((3,4))\n",
    "print(\"random array:\\n\",random)\n"
   ]
  },
  {
   "cell_type": "code",
   "execution_count": 16,
   "id": "d487f919-c1a7-4f40-ac1c-f0740a43714a",
   "metadata": {},
   "outputs": [
    {
     "name": "stdout",
     "output_type": "stream",
     "text": [
      "sequence array:\n",
      " [0 2 4 6 8]\n"
     ]
    }
   ],
   "source": [
    "#range\n",
    "sequence=np.arange(0,10,2)\n",
    "print(\"sequence array:\\n\",sequence)"
   ]
  },
  {
   "cell_type": "code",
   "execution_count": 17,
   "id": "238212af-2265-43a3-8f33-e1066adb1b8c",
   "metadata": {},
   "outputs": [
    {
     "name": "stdout",
     "output_type": "stream",
     "text": [
      "sequence array:\n",
      " [ 0  2  4  6  8 10]\n"
     ]
    }
   ],
   "source": [
    "sequence=np.arange(0,11,2)\n",
    "print(\"sequence array:\\n\",sequence)"
   ]
  },
  {
   "cell_type": "markdown",
   "id": "a7315337-2699-44e5-b247-f191bbcfa39e",
   "metadata": {},
   "source": [
    "<h1>Vector,matrix,tensor</h1>"
   ]
  },
  {
   "cell_type": "code",
   "execution_count": 18,
   "id": "f3940ebf-a43a-4eba-934f-752a7ae3f09c",
   "metadata": {},
   "outputs": [
    {
     "name": "stdout",
     "output_type": "stream",
     "text": [
      "vector: [1 2 3]\n"
     ]
    }
   ],
   "source": [
    "vector=np.array([1,2,3])\n",
    "print(\"vector:\",vector)\n"
   ]
  },
  {
   "cell_type": "code",
   "execution_count": 20,
   "id": "45cb7680-af5e-4661-add8-a68fbb292dca",
   "metadata": {},
   "outputs": [
    {
     "name": "stdout",
     "output_type": "stream",
     "text": [
      "matrix: [[1 2 3]\n",
      " [4 5 6]]\n"
     ]
    }
   ],
   "source": [
    "matrix=np.array([[1,2,3],\n",
    "                [4,5,6]])\n",
    "print(\"matrix:\",matrix)\n"
   ]
  },
  {
   "cell_type": "code",
   "execution_count": 26,
   "id": "122d0738-0e2d-4912-bbb1-5fbe8bec59ef",
   "metadata": {},
   "outputs": [
    {
     "name": "stdout",
     "output_type": "stream",
     "text": [
      "tensor: [[[1 2]\n",
      "  [3 9]]\n",
      "\n",
      " [[4 5]\n",
      "  [8 6]]]\n"
     ]
    }
   ],
   "source": [
    "tensor=np.array([[[1,2],[3,9]],\n",
    "                 [[4,5],[8,6]]])\n",
    "print(\"tensor:\",tensor)\n"
   ]
  },
  {
   "cell_type": "markdown",
   "id": "2ad17335-d921-45ce-b0d9-efda73f9af25",
   "metadata": {},
   "source": [
    "<h1>array properties\n",
    "</h1>"
   ]
  },
  {
   "cell_type": "code",
   "execution_count": 27,
   "id": "c8ddea54-6c39-4ea0-8118-022399fe5ea2",
   "metadata": {},
   "outputs": [
    {
     "name": "stdout",
     "output_type": "stream",
     "text": [
      "shape (2, 3)\n",
      "dimension 2\n",
      "size 6\n",
      "Dtype int32\n"
     ]
    }
   ],
   "source": [
    "arr=np.array([[1,2,3],\n",
    "              [4,5,6]])\n",
    "print(\"shape\",arr.shape)\n",
    "print(\"dimension\",arr.ndim)\n",
    "print(\"size\",arr.size)\n",
    "print(\"Dtype\",arr.dtype)"
   ]
  },
  {
   "cell_type": "code",
   "execution_count": 29,
   "id": "08d94f5e-2c85-427e-82a4-816e1853b029",
   "metadata": {},
   "outputs": [
    {
     "name": "stdout",
     "output_type": "stream",
     "text": [
      "shape (2, 3)\n",
      "dimension 2\n",
      "size 6\n",
      "Dtype int32\n"
     ]
    }
   ],
   "source": [
    "arr=np.array([[1,2,True],\n",
    "              [4,5,6]])\n",
    "print(\"shape\",arr.shape)\n",
    "print(\"dimension\",arr.ndim)\n",
    "print(\"size\",arr.size)\n",
    "print(\"Dtype\",arr.dtype)"
   ]
  },
  {
   "cell_type": "raw",
   "id": "aa34f19b-e6a6-4886-bc34-d2cac4020de8",
   "metadata": {},
   "source": []
  },
  {
   "cell_type": "markdown",
   "id": "9af926ad-b51d-4534-b78b-9191e9da4392",
   "metadata": {},
   "source": [
    "<h1>array reshaping</h1>\n"
   ]
  },
  {
   "cell_type": "code",
   "execution_count": 34,
   "id": "157b00d8-8d94-466e-8197-2275fcebe2ee",
   "metadata": {},
   "outputs": [
    {
     "name": "stdout",
     "output_type": "stream",
     "text": [
      "orginal array [ 0  1  2  3  4  5  6  7  8  9 10 11]\n",
      "\n",
      "reshapedarray [[ 0  1  2  3]\n",
      " [ 4  5  6  7]\n",
      " [ 8  9 10 11]]\n"
     ]
    }
   ],
   "source": [
    "arr=np.arange(12)\n",
    "print(\"orginal array\",arr)\n",
    "#reshapedarray\n",
    "reshapedarray=arr.reshape((3,4))\n",
    "print(\"\\nreshapedarray\",reshapedarray)\n"
   ]
  },
  {
   "cell_type": "code",
   "execution_count": 38,
   "id": "28e5064a-7e51-4234-8215-0cc29d4bb0f7",
   "metadata": {},
   "outputs": [
    {
     "name": "stdout",
     "output_type": "stream",
     "text": [
      "flatten [ 0  1  2  3  4  5  6  7  8  9 10 11]\n"
     ]
    }
   ],
   "source": [
    "#flatten(returns copy of orginal array)\n",
    "flatten=reshapedarray.flatten()\n",
    "print(\"flatten\",flatten)"
   ]
  },
  {
   "cell_type": "code",
   "execution_count": 37,
   "id": "bb0ea3b9-63f8-46ad-adb0-a5cd70ab4147",
   "metadata": {},
   "outputs": [
    {
     "name": "stdout",
     "output_type": "stream",
     "text": [
      "ravel [ 0  1  2  3  4  5  6  7  8  9 10 11]\n"
     ]
    }
   ],
   "source": [
    "#ravel(returns orginal array)\n",
    "ravel=reshapedarray.ravel()\n",
    "print(\"ravel\",ravel)"
   ]
  },
  {
   "cell_type": "code",
   "execution_count": 40,
   "id": "bf785f2a-9fee-47ec-8d42-3b0f321fd942",
   "metadata": {},
   "outputs": [
    {
     "name": "stdout",
     "output_type": "stream",
     "text": [
      "\n",
      " Transpose array [[ 0  4  8]\n",
      " [ 1  5  9]\n",
      " [ 2  6 10]\n",
      " [ 3  7 11]]\n"
     ]
    }
   ],
   "source": [
    "#transpose\n",
    "transpose=reshapedarray.T\n",
    "print(\"\\n Transpose array\",transpose)"
   ]
  },
  {
   "cell_type": "markdown",
   "id": "b807e514-fcb1-4362-a538-e25faa436323",
   "metadata": {},
   "source": [
    "<h1>Numpy array operations</h1>"
   ]
  },
  {
   "cell_type": "code",
   "execution_count": 42,
   "id": "6edc80d2-8a4c-4b8c-bb33-259410576c44",
   "metadata": {},
   "outputs": [
    {
     "name": "stdout",
     "output_type": "stream",
     "text": [
      "basic slicing [2 3 4 5 6]\n"
     ]
    }
   ],
   "source": [
    "arr=np.array([ 0 , 1 , 2 , 3 , 4  ,5 , 6 ,7 , 8 , 9, 10, 11])\n",
    "print(\"basic slicing\",arr[2:7])"
   ]
  },
  {
   "cell_type": "code",
   "execution_count": 43,
   "id": "a65a4f65-814e-4240-bdbf-933a5603c77c",
   "metadata": {},
   "outputs": [
    {
     "name": "stdout",
     "output_type": "stream",
     "text": [
      "with step [1 3 5 7]\n"
     ]
    }
   ],
   "source": [
    "print(\"with step\",arr[1:8:2])"
   ]
  },
  {
   "cell_type": "code",
   "execution_count": 44,
   "id": "6bf14c69-5bfa-4b63-9412-abb7e1c99a89",
   "metadata": {},
   "outputs": [
    {
     "name": "stdout",
     "output_type": "stream",
     "text": [
      "Negative indexing 9\n"
     ]
    }
   ],
   "source": [
    "print(\"Negative indexing\",arr[-3])"
   ]
  },
  {
   "cell_type": "code",
   "execution_count": 6,
   "id": "6ccef8e5-60eb-46fe-a55e-2d024f609c68",
   "metadata": {},
   "outputs": [
    {
     "name": "stdout",
     "output_type": "stream",
     "text": [
      "Specific element 7\n",
      "entire row [5 6 7 8]\n",
      "entire column: [ 2  6 10]\n"
     ]
    }
   ],
   "source": [
    "import numpy as np\n",
    "arr2d=np.array([[1,2,3,4],\n",
    "                [5,6,7,8],\n",
    "                [9,10,11,12]])\n",
    "print(\"Specific element\",arr2d[1,2])\n",
    "print(\"entire row\",arr2d[1])\n",
    "print(\"entire column:\",arr2d[:,1])"
   ]
  },
  {
   "cell_type": "markdown",
   "id": "cfb19fbc-9a2f-40b0-bcc3-d4ff8001df03",
   "metadata": {},
   "source": [
    "<h1>Sorting</h1>"
   ]
  },
  {
   "cell_type": "code",
   "execution_count": 7,
   "id": "99b78914-fc67-490c-b9be-e8718d42f808",
   "metadata": {},
   "outputs": [
    {
     "name": "stdout",
     "output_type": "stream",
     "text": [
      "sorted array [  1   3   4   4   6  55  76 245]\n"
     ]
    }
   ],
   "source": [
    "unsorted=np.array([3,1,4,55,76,245,4,6])\n",
    "print(\"sorted array\",np.sort(unsorted))"
   ]
  },
  {
   "cell_type": "code",
   "execution_count": 13,
   "id": "fd269c20-de80-41a2-9d14-c3bf12b3da65",
   "metadata": {},
   "outputs": [
    {
     "name": "stdout",
     "output_type": "stream",
     "text": [
      "sorted array [[  1   3]\n",
      " [  4  55]\n",
      " [ 76 245]\n",
      " [  4   6]]\n"
     ]
    }
   ],
   "source": [
    "arr2d_unsorted=np.array([[3,1],[4,55],[76,245],[4,6]])\n",
    "print(\"sorted array\",np.sort(arr2d_unsorted,axis=1))"
   ]
  },
  {
   "cell_type": "code",
   "execution_count": null,
   "id": "09ede1da-e713-4da1-9c00-63c10d743ea4",
   "metadata": {},
   "outputs": [],
   "source": []
  },
  {
   "cell_type": "code",
   "execution_count": null,
   "id": "31303741-af20-4826-aee9-d10e11140c2b",
   "metadata": {},
   "outputs": [],
   "source": []
  }
 ],
 "metadata": {
  "kernelspec": {
   "display_name": "Python 3 (ipykernel)",
   "language": "python",
   "name": "python3"
  },
  "language_info": {
   "codemirror_mode": {
    "name": "ipython",
    "version": 3
   },
   "file_extension": ".py",
   "mimetype": "text/x-python",
   "name": "python",
   "nbconvert_exporter": "python",
   "pygments_lexer": "ipython3",
   "version": "3.11.7"
  }
 },
 "nbformat": 4,
 "nbformat_minor": 5
}
