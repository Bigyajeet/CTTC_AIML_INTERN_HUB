{
 "cells": [
  {
   "cell_type": "code",
   "execution_count": 4,
   "id": "25f8e8a1-a643-4285-9a0b-47a10b14116f",
   "metadata": {},
   "outputs": [
    {
     "name": "stdout",
     "output_type": "stream",
     "text": [
      "p\n",
      "y\n",
      "t\n"
     ]
    }
   ],
   "source": [
    "#break \n",
    "for i in 'python':\n",
    "    if i=='h':\n",
    "        break\n",
    "    print(i)\n",
    "\n"
   ]
  },
  {
   "cell_type": "code",
   "execution_count": 5,
   "id": "fa2cb54c-1fb3-473d-828b-d1d59eb29531",
   "metadata": {},
   "outputs": [
    {
     "name": "stdout",
     "output_type": "stream",
     "text": [
      "p\n",
      "y\n",
      "t\n",
      "o\n",
      "n\n"
     ]
    }
   ],
   "source": [
    "#continue\n",
    "for i in 'python':\n",
    "    if i=='h':\n",
    "        continue\n",
    "    print(i)\n"
   ]
  },
  {
   "cell_type": "code",
   "execution_count": 6,
   "id": "8bdb78b3-0b53-414d-983d-baf8e2ad3efe",
   "metadata": {},
   "outputs": [
    {
     "name": "stdout",
     "output_type": "stream",
     "text": [
      "p\n",
      "y\n",
      "t\n",
      "h\n",
      "o\n",
      "n\n"
     ]
    }
   ],
   "source": [
    "#  pass\n",
    "for i in 'python':\n",
    "    if i=='h':\n",
    "        pass\n",
    "    print(i)\n"
   ]
  },
  {
   "cell_type": "markdown",
   "id": "d87d5d00-6a65-4ab4-b02d-0b1763b50172",
   "metadata": {},
   "source": [
    "<h1>Functions:a reusable piece of code. block of statements that does some specific task and returns something</h1>"
   ]
  },
  {
   "cell_type": "code",
   "execution_count": 7,
   "id": "3827202c-19dd-4084-a153-e0c45893669f",
   "metadata": {},
   "outputs": [
    {
     "name": "stdout",
     "output_type": "stream",
     "text": [
      "hello\n"
     ]
    }
   ],
   "source": [
    "print(\"hello\")"
   ]
  },
  {
   "cell_type": "code",
   "execution_count": 8,
   "id": "1d475ae7-3c1d-40a8-b0f0-9e71a458b7e3",
   "metadata": {},
   "outputs": [
    {
     "data": {
      "text/plain": [
       "30"
      ]
     },
     "execution_count": 8,
     "metadata": {},
     "output_type": "execute_result"
    }
   ],
   "source": [
    "max(10,20,30)"
   ]
  },
  {
   "cell_type": "code",
   "execution_count": 9,
   "id": "efb0f9ec-42fa-4fc3-9030-a51ac1259759",
   "metadata": {},
   "outputs": [
    {
     "data": {
      "text/plain": [
       "-1"
      ]
     },
     "execution_count": 9,
     "metadata": {},
     "output_type": "execute_result"
    }
   ],
   "source": [
    "min(1,3,-1,0)"
   ]
  },
  {
   "cell_type": "code",
   "execution_count": 10,
   "id": "c851960f-3c08-476d-a7cd-cdcb8a2b3ab7",
   "metadata": {},
   "outputs": [
    {
     "data": {
      "text/plain": [
       "-1"
      ]
     },
     "execution_count": 10,
     "metadata": {},
     "output_type": "execute_result"
    }
   ],
   "source": [
    "min(0-1,2)\n"
   ]
  },
  {
   "cell_type": "code",
   "execution_count": 12,
   "id": "c6a39e71-877e-435b-a8bd-390b1bd2baa1",
   "metadata": {},
   "outputs": [
    {
     "data": {
      "text/plain": [
       "90"
      ]
     },
     "execution_count": 12,
     "metadata": {},
     "output_type": "execute_result"
    }
   ],
   "source": [
    "sum([20,30,40])"
   ]
  },
  {
   "cell_type": "code",
   "execution_count": 13,
   "id": "594fe003-4ecc-40b3-877a-e0ea071f3906",
   "metadata": {},
   "outputs": [
    {
     "data": {
      "text/plain": [
       "5"
      ]
     },
     "execution_count": 13,
     "metadata": {},
     "output_type": "execute_result"
    }
   ],
   "source": [
    "len(\"bigya\")"
   ]
  },
  {
   "cell_type": "code",
   "execution_count": 14,
   "id": "17eb8e2f-9d24-4823-b637-65ce02d62fcd",
   "metadata": {},
   "outputs": [
    {
     "name": "stdout",
     "output_type": "stream",
     "text": [
      "hello\n"
     ]
    }
   ],
   "source": [
    "#no argument\n",
    "def greet():\n",
    "    print('hello')\n",
    "\n",
    "greet()"
   ]
  },
  {
   "cell_type": "code",
   "execution_count": 15,
   "id": "de0e15e0-2d7a-4e3b-acad-9f90d78b1ffb",
   "metadata": {},
   "outputs": [
    {
     "name": "stdout",
     "output_type": "stream",
     "text": [
      "hello bigya\n"
     ]
    }
   ],
   "source": [
    "#SIngle argument\n",
    "def greet(name):\n",
    "    print('hello',name)\n",
    "\n",
    "greet(\"bigya\")"
   ]
  },
  {
   "cell_type": "code",
   "execution_count": 19,
   "id": "eb50e730-36d0-4e8a-bda8-5966707a953f",
   "metadata": {},
   "outputs": [
    {
     "name": "stdout",
     "output_type": "stream",
     "text": [
      "hello bigya gen\n"
     ]
    }
   ],
   "source": [
    "#double argument\n",
    "def greet(name,caste):\n",
    "    print('hello',name,caste)\n",
    "    return\n",
    "\n",
    "greet(\"bigya\",\"gen\")"
   ]
  },
  {
   "cell_type": "code",
   "execution_count": 25,
   "id": "0de01abb-e340-4652-8972-563533eee7a2",
   "metadata": {},
   "outputs": [],
   "source": [
    "# greet(\"bigya\",\"gen\")+greet(\"bigya\",\"gen\")"
   ]
  },
  {
   "cell_type": "code",
   "execution_count": 22,
   "id": "af099614-0aa8-4348-ae05-f31bbba69db8",
   "metadata": {},
   "outputs": [
    {
     "data": {
      "text/plain": [
       "15"
      ]
     },
     "execution_count": 22,
     "metadata": {},
     "output_type": "execute_result"
    }
   ],
   "source": [
    "#default argument\n",
    "def add(n=5,m=10):\n",
    "    return n+m\n",
    "\n",
    "add()"
   ]
  },
  {
   "cell_type": "code",
   "execution_count": 24,
   "id": "3b9be185-f194-4741-8964-e66d89ef6f43",
   "metadata": {},
   "outputs": [
    {
     "data": {
      "text/plain": [
       "35"
      ]
     },
     "execution_count": 24,
     "metadata": {},
     "output_type": "execute_result"
    }
   ],
   "source": [
    "add(10,25)"
   ]
  },
  {
   "cell_type": "code",
   "execution_count": 26,
   "id": "4948eb80-a7d8-44b8-8f7e-6493e9b71234",
   "metadata": {},
   "outputs": [
    {
     "data": {
      "text/plain": [
       "80"
      ]
     },
     "execution_count": 26,
     "metadata": {},
     "output_type": "execute_result"
    }
   ],
   "source": [
    "#multiple arguments\n",
    "def fun(*args):\n",
    "    return sum(args)\n",
    "\n",
    "fun(20,20,40)"
   ]
  },
  {
   "cell_type": "code",
   "execution_count": 29,
   "id": "2fefc6c7-e76d-4030-bde0-e8067589fc25",
   "metadata": {},
   "outputs": [
    {
     "data": {
      "text/plain": [
       "'Even'"
      ]
     },
     "execution_count": 29,
     "metadata": {},
     "output_type": "execute_result"
    }
   ],
   "source": [
    "#evenorodd\n",
    "def isEven(n):\n",
    "    if n%2==0:\n",
    "        return 'Even'\n",
    "    else:\n",
    "        return 'Not Even'\n",
    "\n",
    "isEven(4)"
   ]
  },
  {
   "cell_type": "code",
   "execution_count": 30,
   "id": "bc62da04-6082-4008-b0ee-9d7a439f0b51",
   "metadata": {},
   "outputs": [
    {
     "data": {
      "text/plain": [
       "55"
      ]
     },
     "execution_count": 30,
     "metadata": {},
     "output_type": "execute_result"
    }
   ],
   "source": [
    "def add(n):\n",
    "    s=0\n",
    "    for i in range(1,n+1):\n",
    "        s+=i\n",
    "    return s\n",
    "\n",
    "add(10)"
   ]
  },
  {
   "cell_type": "code",
   "execution_count": 42,
   "id": "68408638-9703-42d7-844d-19e9b26839f5",
   "metadata": {},
   "outputs": [],
   "source": [
    "class Apple:\n",
    "    color='orange'\n",
    "    taste='sour'\n",
    "\n",
    "obj=Apple()\n"
   ]
  },
  {
   "cell_type": "code",
   "execution_count": 43,
   "id": "2d9c23e7-d96a-4795-b023-9cad02d7c3ae",
   "metadata": {},
   "outputs": [
    {
     "data": {
      "text/plain": [
       "'orange'"
      ]
     },
     "execution_count": 43,
     "metadata": {},
     "output_type": "execute_result"
    }
   ],
   "source": [
    "obj.color"
   ]
  },
  {
   "cell_type": "code",
   "execution_count": 44,
   "id": "f169baf5-7e2e-47f0-aca7-0dae6ab07375",
   "metadata": {},
   "outputs": [
    {
     "data": {
      "text/plain": [
       "'sour'"
      ]
     },
     "execution_count": 44,
     "metadata": {},
     "output_type": "execute_result"
    }
   ],
   "source": [
    "obj.taste"
   ]
  },
  {
   "cell_type": "code",
   "execution_count": 45,
   "id": "d57848ae-4e0e-4c04-9848-d9dcc491c17b",
   "metadata": {},
   "outputs": [],
   "source": [
    "obj1=Apple()"
   ]
  },
  {
   "cell_type": "code",
   "execution_count": 50,
   "id": "911d0b86-63d1-47f9-9b33-fb1c1d53de89",
   "metadata": {},
   "outputs": [],
   "source": [
    "obj1.color='green'\n"
   ]
  },
  {
   "cell_type": "code",
   "execution_count": 54,
   "id": "61b0fba3-db67-407a-91b8-df722930b60e",
   "metadata": {},
   "outputs": [],
   "source": [
    "obj1.taste=\"sweet\""
   ]
  },
  {
   "cell_type": "code",
   "execution_count": 55,
   "id": "188552ab-de08-4afd-805d-1aefa8fb0936",
   "metadata": {},
   "outputs": [
    {
     "data": {
      "text/plain": [
       "'green'"
      ]
     },
     "execution_count": 55,
     "metadata": {},
     "output_type": "execute_result"
    }
   ],
   "source": [
    "obj1.color"
   ]
  },
  {
   "cell_type": "code",
   "execution_count": 56,
   "id": "79c66f68-0d63-4da1-a1f1-570f610dd621",
   "metadata": {},
   "outputs": [
    {
     "data": {
      "text/plain": [
       "'sweet'"
      ]
     },
     "execution_count": 56,
     "metadata": {},
     "output_type": "execute_result"
    }
   ],
   "source": [
    "obj1.taste"
   ]
  },
  {
   "cell_type": "code",
   "execution_count": 58,
   "id": "a33ad22b-8533-49c4-a964-86ec7f5ec569",
   "metadata": {},
   "outputs": [],
   "source": [
    "class Apple:\n",
    "    color='red'\n",
    "    taste='sweet'\n",
    "    def fun(abc):\n",
    "        return \"my name is bigyajeet\"\n",
    "obj=Apple()"
   ]
  },
  {
   "cell_type": "code",
   "execution_count": 59,
   "id": "3eab0850-a3a6-486f-9cb7-792db4976513",
   "metadata": {},
   "outputs": [
    {
     "data": {
      "text/plain": [
       "'my name is bigyajeet'"
      ]
     },
     "execution_count": 59,
     "metadata": {},
     "output_type": "execute_result"
    }
   ],
   "source": [
    "obj.fun()"
   ]
  },
  {
   "cell_type": "code",
   "execution_count": 62,
   "id": "b4a14dec-b666-4cbe-a4e0-a4be54f8eb6f",
   "metadata": {},
   "outputs": [
    {
     "data": {
      "text/plain": [
       "400"
      ]
     },
     "execution_count": 62,
     "metadata": {},
     "output_type": "execute_result"
    }
   ],
   "source": [
    "class Apple:\n",
    "    color=\"red\"\n",
    "    taste=\"sweet\"\n",
    "    amount=100\n",
    "    def price(self,qty):\n",
    "        return self.amount*qty\n",
    "\n",
    "obj=Apple()\n",
    "obj.price(4)"
   ]
  },
  {
   "cell_type": "code",
   "execution_count": 81,
   "id": "ce52bb09-5447-4eea-ac9f-d90bfdb87cbd",
   "metadata": {},
   "outputs": [
    {
     "name": "stdin",
     "output_type": "stream",
     "text": [
      "enter the name of the bird mithu\n",
      "enter the age of the bird 13\n",
      "enter the color of the bird green\n",
      "enter the weight of the bird 55\n"
     ]
    },
    {
     "name": "stdout",
     "output_type": "stream",
     "text": [
      "name is: mithu age is: 13 color is: green weight is: 55\n",
      "72 kg\n"
     ]
    }
   ],
   "source": [
    "class Bird:\n",
    "    name=input(\"enter the name of the bird\")\n",
    "    age=int(input(\"enter the age of the bird\"))\n",
    "    color=input(\"enter the color of the bird\")\n",
    "    weight=int(input(\"enter the weight of the bird\"))\n",
    "    def eat(self,foodeaten):\n",
    "        print(\"name is:\",self.name,\"age is:\",self.age,\"color is:\",self.color,\"weight is:\",self.weight)\n",
    "        print(self.weight+foodeaten,\"kg\",)\n",
    "\n",
    "obj=Bird()\n",
    "obj.eat(17)\n",
    "        "
   ]
  },
  {
   "cell_type": "markdown",
   "id": "8eabefaf-323d-4ae3-a759-bf1a60060ab9",
   "metadata": {},
   "source": [
    "<h1>numpy</h1>"
   ]
  },
  {
   "cell_type": "code",
   "execution_count": 82,
   "id": "50851d56-d7d4-4252-938b-92bc34baeff8",
   "metadata": {},
   "outputs": [
    {
     "data": {
      "text/plain": [
       "array([1, 2, 3, 4, 5])"
      ]
     },
     "execution_count": 82,
     "metadata": {},
     "output_type": "execute_result"
    }
   ],
   "source": [
    "import numpy as np\n",
    "#to create a 1-D array\n",
    "a=np.array([1,2,3,4,5])\n",
    "a"
   ]
  },
  {
   "cell_type": "code",
   "execution_count": 83,
   "id": "9ca03b54-5749-4668-b721-d771acbf7307",
   "metadata": {},
   "outputs": [
    {
     "data": {
      "text/plain": [
       "numpy.ndarray"
      ]
     },
     "execution_count": 83,
     "metadata": {},
     "output_type": "execute_result"
    }
   ],
   "source": [
    "type(a)"
   ]
  },
  {
   "cell_type": "code",
   "execution_count": 86,
   "id": "6c6e01dd-e57d-4988-9aa3-35a741bd2e72",
   "metadata": {},
   "outputs": [
    {
     "data": {
      "text/plain": [
       "numpy.ndarray"
      ]
     },
     "execution_count": 86,
     "metadata": {},
     "output_type": "execute_result"
    }
   ],
   "source": [
    "import numpy as np\n",
    "#to create a 1-D array\n",
    "a=np.array((1,2,3,4,5))\n",
    "a\n",
    "type(a)"
   ]
  },
  {
   "cell_type": "code",
   "execution_count": 87,
   "id": "f8b8bb5b-1c3e-41a4-99d1-5932547bdb2d",
   "metadata": {},
   "outputs": [
    {
     "data": {
      "text/plain": [
       "numpy.ndarray"
      ]
     },
     "execution_count": 87,
     "metadata": {},
     "output_type": "execute_result"
    }
   ],
   "source": [
    "import numpy as np\n",
    "#to create a 1-D array\n",
    "a=np.array({1,2,3,4,5})\n",
    "a\n",
    "type(a)"
   ]
  },
  {
   "cell_type": "code",
   "execution_count": 88,
   "id": "ea326679-6222-40c5-a72e-272e74554222",
   "metadata": {},
   "outputs": [
    {
     "data": {
      "text/plain": [
       "array({'a': 1, 'b': 2, 'c': 3}, dtype=object)"
      ]
     },
     "execution_count": 88,
     "metadata": {},
     "output_type": "execute_result"
    }
   ],
   "source": [
    "#dictionary to array\n",
    "d=np.array({'a':1,'b':2,'c':3})\n",
    "d"
   ]
  },
  {
   "cell_type": "code",
   "execution_count": 89,
   "id": "6ce5bc22-e705-4eec-a916-28ecc3c07079",
   "metadata": {},
   "outputs": [
    {
     "data": {
      "text/plain": [
       "array([[1, 2, 3],\n",
       "       [4, 5, 6]])"
      ]
     },
     "execution_count": 89,
     "metadata": {},
     "output_type": "execute_result"
    }
   ],
   "source": [
    "a=np.array([(1,2,3),(4,5,6)])\n",
    "a"
   ]
  },
  {
   "cell_type": "code",
   "execution_count": 91,
   "id": "be3329e5-9669-428e-a519-7ac97dd5d0cb",
   "metadata": {},
   "outputs": [
    {
     "data": {
      "text/plain": [
       "array([[4, 3, 2, 1],\n",
       "       [2, 1, 5, 6],\n",
       "       [1, 9, 5, 7],\n",
       "       [5, 6, 7, 9]])"
      ]
     },
     "execution_count": 91,
     "metadata": {},
     "output_type": "execute_result"
    }
   ],
   "source": [
    "a=np.array([(4,3,2,1),(2,1,5,6),(1,9,5,7),(5,6,7,9)])\n",
    "a"
   ]
  },
  {
   "cell_type": "code",
   "execution_count": null,
   "id": "eec4c6a2-9dcb-497a-b8ab-d4c7f35c1726",
   "metadata": {},
   "outputs": [],
   "source": []
  },
  {
   "cell_type": "code",
   "execution_count": null,
   "id": "4aa2d42e-a9a3-4429-94f6-9a209d61c459",
   "metadata": {},
   "outputs": [],
   "source": []
  }
 ],
 "metadata": {
  "kernelspec": {
   "display_name": "Python 3 (ipykernel)",
   "language": "python",
   "name": "python3"
  },
  "language_info": {
   "codemirror_mode": {
    "name": "ipython",
    "version": 3
   },
   "file_extension": ".py",
   "mimetype": "text/x-python",
   "name": "python",
   "nbconvert_exporter": "python",
   "pygments_lexer": "ipython3",
   "version": "3.11.7"
  }
 },
 "nbformat": 4,
 "nbformat_minor": 5
}
