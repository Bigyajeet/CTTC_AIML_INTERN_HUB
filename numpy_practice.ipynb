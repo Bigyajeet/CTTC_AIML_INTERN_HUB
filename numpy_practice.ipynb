{
 "cells": [
  {
   "cell_type": "code",
   "execution_count": 1,
   "id": "5a91915e-22b5-4aa8-b492-0606c7357000",
   "metadata": {},
   "outputs": [
    {
     "data": {
      "text/plain": [
       "array([1, 2, 3, 4, 5])"
      ]
     },
     "execution_count": 1,
     "metadata": {},
     "output_type": "execute_result"
    }
   ],
   "source": [
    "import numpy as np\n",
    "#to create a 1-D array \n",
    "a = np.array([1,2,3,4,5]) \n",
    "a\n"
   ]
  },
  {
   "cell_type": "code",
   "execution_count": 2,
   "id": "295bdc2a-d52c-4fb4-9a41-46ce66e37ac7",
   "metadata": {},
   "outputs": [
    {
     "data": {
      "text/plain": [
       "numpy.ndarray"
      ]
     },
     "execution_count": 2,
     "metadata": {},
     "output_type": "execute_result"
    }
   ],
   "source": [
    "type(a)  #ndarry : n-dimensional array\n"
   ]
  },
  {
   "cell_type": "code",
   "execution_count": 3,
   "id": "9ac7d550-79d9-404f-aa44-e438df8f56ab",
   "metadata": {},
   "outputs": [
    {
     "data": {
      "text/plain": [
       "array([1, 2, 3, 4, 5])"
      ]
     },
     "execution_count": 3,
     "metadata": {},
     "output_type": "execute_result"
    }
   ],
   "source": [
    "#tuple to array \n",
    "a = np.array((1,2,3,4,5)) \n",
    "a\n"
   ]
  },
  {
   "cell_type": "code",
   "execution_count": 4,
   "id": "475b1e11-fd33-491f-a66c-a654185f0d1e",
   "metadata": {},
   "outputs": [
    {
     "data": {
      "text/plain": [
       "array({3, 4, 5, 6}, dtype=object)"
      ]
     },
     "execution_count": 4,
     "metadata": {},
     "output_type": "execute_result"
    }
   ],
   "source": [
    "#set to array \n",
    "s = np.array({3,3,3,3,6,5,4,5,6,4,4}) \n",
    "s"
   ]
  },
  {
   "cell_type": "code",
   "execution_count": 5,
   "id": "19058aa4-0ce8-4b3d-8a7c-7bffc5e4f812",
   "metadata": {},
   "outputs": [
    {
     "data": {
      "text/plain": [
       "array({'a': 1, 'b': 2, 'c': 3}, dtype=object)"
      ]
     },
     "execution_count": 5,
     "metadata": {},
     "output_type": "execute_result"
    }
   ],
   "source": [
    "# dictionary to array \n",
    "d = np.array({'a':1,'b':2,'c':3}) \n",
    "d"
   ]
  },
  {
   "cell_type": "code",
   "execution_count": 3,
   "id": "6dddd2bd-f461-4bb6-8eb5-569e593376bd",
   "metadata": {},
   "outputs": [
    {
     "data": {
      "text/plain": [
       "array([[ 2,  3,  4],\n",
       "       [ 5,  6,  7],\n",
       "       [ 8,  9, 10]])"
      ]
     },
     "execution_count": 3,
     "metadata": {},
     "output_type": "execute_result"
    }
   ],
   "source": [
    "#2-D array \n",
    "import numpy as np\n",
    "a = np.array([(2,3,4),(5,6,7),(8,9,10)])\n",
    "a"
   ]
  },
  {
   "cell_type": "code",
   "execution_count": 7,
   "id": "b372b36c-0fa0-4e48-baab-87afccd74c5e",
   "metadata": {},
   "outputs": [
    {
     "data": {
      "text/plain": [
       "array([[1, 2, 3],\n",
       "       [4, 5, 6]])"
      ]
     },
     "execution_count": 7,
     "metadata": {},
     "output_type": "execute_result"
    }
   ],
   "source": [
    "a = np.array([(1,2,3),(4,5,6)]) \n",
    "a"
   ]
  },
  {
   "cell_type": "code",
   "execution_count": 104,
   "id": "4f6d5720-6c27-4fac-a78f-b17b81444dd5",
   "metadata": {},
   "outputs": [
    {
     "data": {
      "text/plain": [
       "array([[9, 8, 2, 7],\n",
       "       [1, 2, 8, 9],\n",
       "       [6, 5, 4, 2]])"
      ]
     },
     "execution_count": 104,
     "metadata": {},
     "output_type": "execute_result"
    }
   ],
   "source": [
    "b=np.array([(9,8,2,7),(1,2,8,9),(6,5,4,2)])\n",
    "b"
   ]
  },
  {
   "cell_type": "code",
   "execution_count": 43,
   "id": "fbef8301-8c75-4cdd-add1-8f0871d6a3c8",
   "metadata": {},
   "outputs": [
    {
     "data": {
      "text/plain": [
       "array([[1, 2, 3, 4],\n",
       "       [5, 6, 7, 8],\n",
       "       [9, 3, 6, 8]])"
      ]
     },
     "execution_count": 43,
     "metadata": {},
     "output_type": "execute_result"
    }
   ],
   "source": [
    "b = np.array([(1,2,3,4),(5,6,7,8),(9,3,6,8)])\n",
    "b"
   ]
  },
  {
   "cell_type": "code",
   "execution_count": 105,
   "id": "102756a7-5208-4f2e-bd02-a5f865a6a89e",
   "metadata": {},
   "outputs": [
    {
     "data": {
      "text/plain": [
       "(3, 4)"
      ]
     },
     "execution_count": 105,
     "metadata": {},
     "output_type": "execute_result"
    }
   ],
   "source": [
    "#array attributes \n",
    "b.shape  #to check the shape of an array"
   ]
  },
  {
   "cell_type": "code",
   "execution_count": 10,
   "id": "8da4bac5-961b-4927-916a-4f563dbed8be",
   "metadata": {},
   "outputs": [
    {
     "data": {
      "text/plain": [
       "12"
      ]
     },
     "execution_count": 10,
     "metadata": {},
     "output_type": "execute_result"
    }
   ],
   "source": [
    "b.size  #to check number of elements\n"
   ]
  },
  {
   "cell_type": "code",
   "execution_count": 11,
   "id": "a9d08fb7-9113-413c-882f-ce202c78362e",
   "metadata": {},
   "outputs": [
    {
     "data": {
      "text/plain": [
       "2"
      ]
     },
     "execution_count": 11,
     "metadata": {},
     "output_type": "execute_result"
    }
   ],
   "source": [
    "b.ndim #to check number of dimensions\n"
   ]
  },
  {
   "cell_type": "code",
   "execution_count": 5,
   "id": "6157a934-807f-407d-ac86-6160713a0cde",
   "metadata": {},
   "outputs": [
    {
     "data": {
      "text/plain": [
       "array([ 1,  2,  3,  4,  5,  6,  7,  8,  9, 10])"
      ]
     },
     "execution_count": 5,
     "metadata": {},
     "output_type": "execute_result"
    }
   ],
   "source": [
    "#arange : returns a 1-D array of given range \n",
    "np.arange(1,11)\n"
   ]
  },
  {
   "cell_type": "code",
   "execution_count": 7,
   "id": "b47407d0-1626-40f8-8d95-cd1bf36908ac",
   "metadata": {},
   "outputs": [
    {
     "data": {
      "text/plain": [
       "array([ 1,  3,  5,  7,  9, 11, 13, 15, 17, 19])"
      ]
     },
     "execution_count": 7,
     "metadata": {},
     "output_type": "execute_result"
    }
   ],
   "source": [
    "np.arange(1,20,2)"
   ]
  },
  {
   "cell_type": "code",
   "execution_count": 13,
   "id": "33a9ea07-7b6e-46c7-819a-699884b8bda2",
   "metadata": {},
   "outputs": [
    {
     "data": {
      "text/plain": [
       "array([0., 0., 0., 0.])"
      ]
     },
     "execution_count": 13,
     "metadata": {},
     "output_type": "execute_result"
    }
   ],
   "source": [
    "#zeros \n",
    "np.zeros(4)"
   ]
  },
  {
   "cell_type": "code",
   "execution_count": 107,
   "id": "6fb1a170-7d8c-452b-b1b6-57331d6e336e",
   "metadata": {},
   "outputs": [
    {
     "data": {
      "text/plain": [
       "array([[0, 0, 0, 0],\n",
       "       [0, 0, 0, 0],\n",
       "       [0, 0, 0, 0],\n",
       "       [0, 0, 0, 0]])"
      ]
     },
     "execution_count": 107,
     "metadata": {},
     "output_type": "execute_result"
    }
   ],
   "source": [
    "a = np.zeros((4,4),dtype=int) \n",
    "a"
   ]
  },
  {
   "cell_type": "code",
   "execution_count": 15,
   "id": "a2caafae-13cf-4011-aaf8-71878307d749",
   "metadata": {},
   "outputs": [
    {
     "data": {
      "text/plain": [
       "array([1., 1., 1., 1.])"
      ]
     },
     "execution_count": 15,
     "metadata": {},
     "output_type": "execute_result"
    }
   ],
   "source": [
    "#ones \n",
    "np.ones(4)"
   ]
  },
  {
   "cell_type": "code",
   "execution_count": 16,
   "id": "caac4ceb-389a-4ec4-9eb9-eb9c9c21d6b9",
   "metadata": {},
   "outputs": [
    {
     "data": {
      "text/plain": [
       "array([[1., 1., 1., 1., 1.],\n",
       "       [1., 1., 1., 1., 1.],\n",
       "       [1., 1., 1., 1., 1.],\n",
       "       [1., 1., 1., 1., 1.],\n",
       "       [1., 1., 1., 1., 1.]])"
      ]
     },
     "execution_count": 16,
     "metadata": {},
     "output_type": "execute_result"
    }
   ],
   "source": [
    "np.ones((5,5))\n"
   ]
  },
  {
   "cell_type": "code",
   "execution_count": 17,
   "id": "e086e592-cbad-4d66-be73-b3aeed9fc8bb",
   "metadata": {},
   "outputs": [
    {
     "data": {
      "text/plain": [
       "array([[8, 8, 8, 8, 8],\n",
       "       [8, 8, 8, 8, 8],\n",
       "       [8, 8, 8, 8, 8],\n",
       "       [8, 8, 8, 8, 8]])"
      ]
     },
     "execution_count": 17,
     "metadata": {},
     "output_type": "execute_result"
    }
   ],
   "source": [
    "#full \n",
    "np.full((4,5),8)\n"
   ]
  },
  {
   "cell_type": "code",
   "execution_count": 49,
   "id": "be746393-24ab-4ac5-be06-b35fd2b849ee",
   "metadata": {},
   "outputs": [
    {
     "data": {
      "text/plain": [
       "array([  1.,  34.,  67., 100.])"
      ]
     },
     "execution_count": 49,
     "metadata": {},
     "output_type": "execute_result"
    }
   ],
   "source": [
    "np.linspace(1,100,4)\n"
   ]
  },
  {
   "cell_type": "code",
   "execution_count": 51,
   "id": "f364919a-82a9-48d0-9ff0-a9af3a8d4855",
   "metadata": {},
   "outputs": [
    {
     "data": {
      "text/plain": [
       "array([[1, 0, 0],\n",
       "       [0, 1, 0],\n",
       "       [0, 0, 1]])"
      ]
     },
     "execution_count": 51,
     "metadata": {},
     "output_type": "execute_result"
    }
   ],
   "source": [
    "#identity array\n",
    "np.eye(3).astype(int)"
   ]
  },
  {
   "cell_type": "code",
   "execution_count": 111,
   "id": "fc2e0aeb-1897-44ef-bf76-8d520f0562b7",
   "metadata": {},
   "outputs": [
    {
     "data": {
      "text/plain": [
       "array([0.48407942, 0.4712223 , 0.87145409, 0.03852288])"
      ]
     },
     "execution_count": 111,
     "metadata": {},
     "output_type": "execute_result"
    }
   ],
   "source": [
    "#random float values\n",
    "np.random.rand(4)"
   ]
  },
  {
   "cell_type": "code",
   "execution_count": 113,
   "id": "7fa70860-25c9-4b95-9d59-aa3bee0ec4f1",
   "metadata": {},
   "outputs": [
    {
     "data": {
      "text/plain": [
       "array([[0.33151742, 0.21777656, 0.41100143, 0.22188374],\n",
       "       [0.98225215, 0.68667185, 0.83013171, 0.96081379],\n",
       "       [0.98657708, 0.29558819, 0.25394971, 0.82102534]])"
      ]
     },
     "execution_count": 113,
     "metadata": {},
     "output_type": "execute_result"
    }
   ],
   "source": [
    "np.random.rand(3,4)"
   ]
  },
  {
   "cell_type": "code",
   "execution_count": 114,
   "id": "e0ae9465-7ca5-483c-a9ed-4903f48750ab",
   "metadata": {},
   "outputs": [
    {
     "data": {
      "text/plain": [
       "array([[19.48266352, 71.73658295, 80.71125978, 66.16753758],\n",
       "       [ 3.53958929, 22.83994384, 59.06192786, 82.96862418],\n",
       "       [ 1.74492636, 20.14771295, 42.229005  , 20.05957092]])"
      ]
     },
     "execution_count": 114,
     "metadata": {},
     "output_type": "execute_result"
    }
   ],
   "source": [
    "np.random.rand(3,4)*100"
   ]
  },
  {
   "cell_type": "code",
   "execution_count": 117,
   "id": "67ccb59f-77e6-40bb-8411-d01f0d29dabe",
   "metadata": {},
   "outputs": [
    {
     "data": {
      "text/plain": [
       "array([[6, 2, 6],\n",
       "       [8, 4, 1],\n",
       "       [4, 5, 6]])"
      ]
     },
     "execution_count": 117,
     "metadata": {},
     "output_type": "execute_result"
    }
   ],
   "source": [
    "np.random.randint(1,10,(3,3))"
   ]
  },
  {
   "cell_type": "code",
   "execution_count": 11,
   "id": "ea2b1f93-572d-4420-b856-14d1027226a8",
   "metadata": {},
   "outputs": [],
   "source": [
    "# Mathematical operations\n",
    "a=np.array([4,5,6,7])\n",
    "b=np.array([5,7,2,3])\n"
   ]
  },
  {
   "cell_type": "code",
   "execution_count": 5,
   "id": "91e69c13-fa27-4a12-b1f1-8582f826d218",
   "metadata": {},
   "outputs": [
    {
     "data": {
      "text/plain": [
       "array([ 9, 12,  8, 10])"
      ]
     },
     "execution_count": 5,
     "metadata": {},
     "output_type": "execute_result"
    }
   ],
   "source": [
    "np.add(a,b)"
   ]
  },
  {
   "cell_type": "code",
   "execution_count": 13,
   "id": "4c2ec50f-d0b5-4037-b847-201b31d79726",
   "metadata": {},
   "outputs": [
    {
     "data": {
      "text/plain": [
       "array([-1, -2,  4,  4])"
      ]
     },
     "execution_count": 13,
     "metadata": {},
     "output_type": "execute_result"
    }
   ],
   "source": [
    "np.subtract(a,b)"
   ]
  },
  {
   "cell_type": "code",
   "execution_count": 15,
   "id": "0fc4e0a7-81cb-4ba1-9a1a-37970139839e",
   "metadata": {},
   "outputs": [
    {
     "data": {
      "text/plain": [
       "array([20, 35, 12, 21])"
      ]
     },
     "execution_count": 15,
     "metadata": {},
     "output_type": "execute_result"
    }
   ],
   "source": [
    "np.multiply(a,b)"
   ]
  },
  {
   "cell_type": "code",
   "execution_count": 17,
   "id": "da7023ed-b7ed-4a3d-b97e-ff01d5d4bc85",
   "metadata": {},
   "outputs": [
    {
     "data": {
      "text/plain": [
       "array([0.8       , 0.71428571, 3.        , 2.33333333])"
      ]
     },
     "execution_count": 17,
     "metadata": {},
     "output_type": "execute_result"
    }
   ],
   "source": [
    "np.divide(a,b)"
   ]
  },
  {
   "cell_type": "code",
   "execution_count": 19,
   "id": "019d9042-2f0f-4a9e-98b3-81af3bf15c20",
   "metadata": {},
   "outputs": [],
   "source": [
    "c=np.array([(1,2,3),(4,5,6),(7,8,9)])\n",
    "d=np.array([(3,4,2),(6,2,5),(1,6,8)])"
   ]
  },
  {
   "cell_type": "code",
   "execution_count": 21,
   "id": "114cf2a4-92d5-4716-8560-dfeccd1fc700",
   "metadata": {},
   "outputs": [
    {
     "data": {
      "text/plain": [
       "array([[ 4,  6,  5],\n",
       "       [10,  7, 11],\n",
       "       [ 8, 14, 17]])"
      ]
     },
     "execution_count": 21,
     "metadata": {},
     "output_type": "execute_result"
    }
   ],
   "source": [
    "np.add(c,d)"
   ]
  },
  {
   "cell_type": "code",
   "execution_count": 9,
   "id": "e354d1d9-9da3-4351-8347-1e51ee5b14b1",
   "metadata": {},
   "outputs": [
    {
     "data": {
      "text/plain": [
       "array([[-2, -2,  1],\n",
       "       [-2,  3,  1],\n",
       "       [ 6,  2,  1]])"
      ]
     },
     "execution_count": 9,
     "metadata": {},
     "output_type": "execute_result"
    }
   ],
   "source": [
    "np.subtract(c,d)"
   ]
  },
  {
   "cell_type": "code",
   "execution_count": 10,
   "id": "7f926fa0-cb62-4393-88fd-5c4fd3bd2c17",
   "metadata": {},
   "outputs": [
    {
     "data": {
      "text/plain": [
       "array([[ 3,  8,  6],\n",
       "       [24, 10, 30],\n",
       "       [ 7, 48, 72]])"
      ]
     },
     "execution_count": 10,
     "metadata": {},
     "output_type": "execute_result"
    }
   ],
   "source": [
    "np.multiply(c,d)"
   ]
  },
  {
   "cell_type": "code",
   "execution_count": 11,
   "id": "f48904a9-193e-4735-9c86-d857eeab46f6",
   "metadata": {},
   "outputs": [
    {
     "data": {
      "text/plain": [
       "array([[0.33333333, 0.5       , 1.5       ],\n",
       "       [0.66666667, 2.5       , 1.2       ],\n",
       "       [7.        , 1.33333333, 1.125     ]])"
      ]
     },
     "execution_count": 11,
     "metadata": {},
     "output_type": "execute_result"
    }
   ],
   "source": [
    "np.divide(c,d)"
   ]
  },
  {
   "cell_type": "code",
   "execution_count": 13,
   "id": "c1674d36-62d1-419e-b655-7d248538e089",
   "metadata": {},
   "outputs": [
    {
     "data": {
      "text/plain": [
       "array([2, 3, 1, 5])"
      ]
     },
     "execution_count": 13,
     "metadata": {},
     "output_type": "execute_result"
    }
   ],
   "source": [
    "a=np.array([-2,-3,1,5])\n",
    "np.abs(a)"
   ]
  },
  {
   "cell_type": "code",
   "execution_count": 14,
   "id": "db1f855a-fbc9-4966-a16f-2a74e3f08100",
   "metadata": {},
   "outputs": [
    {
     "data": {
      "text/plain": [
       "array([1, 0, 0, 0])"
      ]
     },
     "execution_count": 14,
     "metadata": {},
     "output_type": "execute_result"
    }
   ],
   "source": [
    "a1=np.array([4,8,10,12])\n",
    "a2=np.array([3,2,5,6])\n",
    "np.mod(a1,a2)"
   ]
  },
  {
   "cell_type": "code",
   "execution_count": 15,
   "id": "ba00c459-e709-4276-a3ff-8149e9225735",
   "metadata": {},
   "outputs": [
    {
     "data": {
      "text/plain": [
       "array([-0.90929743, -0.14112001,  0.84147098, -0.95892427])"
      ]
     },
     "execution_count": 15,
     "metadata": {},
     "output_type": "execute_result"
    }
   ],
   "source": [
    "np.sin(a)"
   ]
  },
  {
   "cell_type": "code",
   "execution_count": 17,
   "id": "07a50f80-32b4-43da-b5ec-9df062da2e54",
   "metadata": {},
   "outputs": [
    {
     "data": {
      "text/plain": [
       "array([1.38629436, 2.07944154, 2.30258509, 2.48490665])"
      ]
     },
     "execution_count": 17,
     "metadata": {},
     "output_type": "execute_result"
    }
   ],
   "source": [
    "np.log(a1)"
   ]
  },
  {
   "cell_type": "code",
   "execution_count": 18,
   "id": "9899d58c-5e2c-4fcc-80ad-b2c11378b22e",
   "metadata": {},
   "outputs": [
    {
     "data": {
      "text/plain": [
       "array([ 1.15782128, -6.79971146,  0.64836083, -0.63585993])"
      ]
     },
     "execution_count": 18,
     "metadata": {},
     "output_type": "execute_result"
    }
   ],
   "source": [
    "np.tan(a1)"
   ]
  },
  {
   "cell_type": "code",
   "execution_count": 19,
   "id": "629d1edd-8ced-4e16-aa4a-3779254c1e33",
   "metadata": {},
   "outputs": [
    {
     "data": {
      "text/plain": [
       "array([-0.65364362, -0.14550003, -0.83907153,  0.84385396])"
      ]
     },
     "execution_count": 19,
     "metadata": {},
     "output_type": "execute_result"
    }
   ],
   "source": [
    "np.cos(a1)"
   ]
  },
  {
   "cell_type": "code",
   "execution_count": 20,
   "id": "48e3b662-6b7e-4aeb-9ded-0510835cbdef",
   "metadata": {},
   "outputs": [
    {
     "data": {
      "text/plain": [
       "array([5.45981500e+01, 2.98095799e+03, 2.20264658e+04, 1.62754791e+05])"
      ]
     },
     "execution_count": 20,
     "metadata": {},
     "output_type": "execute_result"
    }
   ],
   "source": [
    "np.exp(a1)"
   ]
  },
  {
   "cell_type": "code",
   "execution_count": 21,
   "id": "64c70aa2-8f98-4075-8348-d86835b8be68",
   "metadata": {},
   "outputs": [
    {
     "data": {
      "text/plain": [
       "array([ 16,  64, 100, 144], dtype=int32)"
      ]
     },
     "execution_count": 21,
     "metadata": {},
     "output_type": "execute_result"
    }
   ],
   "source": [
    "np.power(a1,2)"
   ]
  },
  {
   "cell_type": "code",
   "execution_count": 22,
   "id": "b880984a-2bd6-4284-ad60-bfcb782530d3",
   "metadata": {},
   "outputs": [
    {
     "data": {
      "text/plain": [
       "20"
      ]
     },
     "execution_count": 22,
     "metadata": {},
     "output_type": "execute_result"
    }
   ],
   "source": [
    "# statistical opeartions\n",
    "a=np.array([5,6,8,9,20])\n",
    "np.max(a)"
   ]
  },
  {
   "cell_type": "code",
   "execution_count": 23,
   "id": "c96dd859-f3a9-44ac-be8e-7ca9365e8302",
   "metadata": {},
   "outputs": [
    {
     "data": {
      "text/plain": [
       "5"
      ]
     },
     "execution_count": 23,
     "metadata": {},
     "output_type": "execute_result"
    }
   ],
   "source": [
    "np.min(a)"
   ]
  },
  {
   "cell_type": "code",
   "execution_count": 24,
   "id": "050fa885-97f3-49b1-9f82-f33871e7cdd9",
   "metadata": {},
   "outputs": [
    {
     "data": {
      "text/plain": [
       "9.6"
      ]
     },
     "execution_count": 24,
     "metadata": {},
     "output_type": "execute_result"
    }
   ],
   "source": [
    "np.mean(a)"
   ]
  },
  {
   "cell_type": "code",
   "execution_count": 25,
   "id": "30c351d3-5c94-4f57-8d73-a2f88f7a7237",
   "metadata": {},
   "outputs": [
    {
     "data": {
      "text/plain": [
       "8.0"
      ]
     },
     "execution_count": 25,
     "metadata": {},
     "output_type": "execute_result"
    }
   ],
   "source": [
    "np.median(a)"
   ]
  },
  {
   "cell_type": "code",
   "execution_count": 26,
   "id": "524e5e34-e062-40e7-9f0f-909177f1a3ef",
   "metadata": {},
   "outputs": [
    {
     "data": {
      "text/plain": [
       "5.388877434122992"
      ]
     },
     "execution_count": 26,
     "metadata": {},
     "output_type": "execute_result"
    }
   ],
   "source": [
    "np.std(a)"
   ]
  },
  {
   "cell_type": "code",
   "execution_count": 27,
   "id": "23b21915-82c3-4e99-9542-24bf56145f69",
   "metadata": {},
   "outputs": [
    {
     "data": {
      "text/plain": [
       "29.04"
      ]
     },
     "execution_count": 27,
     "metadata": {},
     "output_type": "execute_result"
    }
   ],
   "source": [
    "np.var(a)"
   ]
  },
  {
   "cell_type": "code",
   "execution_count": 23,
   "id": "325cf284-3bd2-4d8c-b299-1f22ba3a92fa",
   "metadata": {},
   "outputs": [
    {
     "data": {
      "text/plain": [
       "6.0"
      ]
     },
     "execution_count": 23,
     "metadata": {},
     "output_type": "execute_result"
    }
   ],
   "source": [
    "c=np.array([(2,3,4),(5,6,7),(8,9,10)])\n",
    "np.mean(c)\n"
   ]
  },
  {
   "cell_type": "code",
   "execution_count": 25,
   "id": "85a88dd2-cb48-49c1-872d-6b643c58520c",
   "metadata": {},
   "outputs": [
    {
     "data": {
      "text/plain": [
       "array([3., 6., 9.])"
      ]
     },
     "execution_count": 25,
     "metadata": {},
     "output_type": "execute_result"
    }
   ],
   "source": [
    "#returns mean row-wise\n",
    "np.mean(c,axis=1)"
   ]
  },
  {
   "cell_type": "code",
   "execution_count": 30,
   "id": "f13ad7f5-d9f4-4d75-8096-139d74b00721",
   "metadata": {},
   "outputs": [
    {
     "data": {
      "text/plain": [
       "array([5., 6., 7.])"
      ]
     },
     "execution_count": 30,
     "metadata": {},
     "output_type": "execute_result"
    }
   ],
   "source": [
    "#returns mean column wise\n",
    "np.mean(c,axis=0)"
   ]
  },
  {
   "cell_type": "code",
   "execution_count": 31,
   "id": "303e0e8f-db6b-4984-aa0c-855e40fbca2c",
   "metadata": {},
   "outputs": [
    {
     "data": {
      "text/plain": [
       "array([ 4,  7, 10])"
      ]
     },
     "execution_count": 31,
     "metadata": {},
     "output_type": "execute_result"
    }
   ],
   "source": [
    "#returns max value row wise\n",
    "np.max(c,axis=1)"
   ]
  },
  {
   "cell_type": "code",
   "execution_count": 32,
   "id": "be1debc4-dd36-42af-8795-fa911d0ea793",
   "metadata": {},
   "outputs": [
    {
     "data": {
      "text/plain": [
       "array([2, 5, 8])"
      ]
     },
     "execution_count": 32,
     "metadata": {},
     "output_type": "execute_result"
    }
   ],
   "source": [
    "#returns minimum value row wise\n",
    "np.min(c,axis=1)"
   ]
  },
  {
   "cell_type": "code",
   "execution_count": 33,
   "id": "483a9afc-c6a8-4b50-b7a7-e4646f9119f7",
   "metadata": {},
   "outputs": [
    {
     "data": {
      "text/plain": [
       "array([6, 5, 8, 9])"
      ]
     },
     "execution_count": 33,
     "metadata": {},
     "output_type": "execute_result"
    }
   ],
   "source": [
    "#Scalar math\n",
    "a=np.array([4,3,6,7])\n",
    "np.add(a,2)"
   ]
  },
  {
   "cell_type": "code",
   "execution_count": 34,
   "id": "16c02c9d-6d96-4f12-ae7f-dbcdc43f7718",
   "metadata": {},
   "outputs": [
    {
     "data": {
      "text/plain": [
       "array([2, 1, 4, 5])"
      ]
     },
     "execution_count": 34,
     "metadata": {},
     "output_type": "execute_result"
    }
   ],
   "source": [
    "np.subtract(a,2)"
   ]
  },
  {
   "cell_type": "code",
   "execution_count": 35,
   "id": "f540c4dc-780c-4f4e-9df3-159cb79250b5",
   "metadata": {},
   "outputs": [
    {
     "data": {
      "text/plain": [
       "array([12,  9, 18, 21])"
      ]
     },
     "execution_count": 35,
     "metadata": {},
     "output_type": "execute_result"
    }
   ],
   "source": [
    "np.multiply(a,3)"
   ]
  },
  {
   "cell_type": "code",
   "execution_count": 36,
   "id": "ebc13cdf-822c-411a-9775-ddf10b78b6d9",
   "metadata": {},
   "outputs": [
    {
     "data": {
      "text/plain": [
       "array([2. , 1.5, 3. , 3.5])"
      ]
     },
     "execution_count": 36,
     "metadata": {},
     "output_type": "execute_result"
    }
   ],
   "source": [
    "np.divide(a,2)"
   ]
  },
  {
   "cell_type": "code",
   "execution_count": 27,
   "id": "cfd7c519-108e-4a8f-b006-7ba024f24c52",
   "metadata": {},
   "outputs": [
    {
     "data": {
      "text/plain": [
       "array([[0, 1],\n",
       "       [6, 7]])"
      ]
     },
     "execution_count": 27,
     "metadata": {},
     "output_type": "execute_result"
    }
   ],
   "source": [
    "#dot product\n",
    "a=np.array([0,1,2,3]).reshape(2,2)\n",
    "b=np.array([3,2,0,1]).reshape(2,2)\n",
    "np.dot(a,b)"
   ]
  },
  {
   "cell_type": "code",
   "execution_count": 29,
   "id": "e3196e4a-2587-4ca2-b120-a647cd5c0f74",
   "metadata": {},
   "outputs": [
    {
     "data": {
      "text/plain": [
       "array([[0, 1],\n",
       "       [2, 3]])"
      ]
     },
     "execution_count": 29,
     "metadata": {},
     "output_type": "execute_result"
    }
   ],
   "source": [
    "a"
   ]
  },
  {
   "cell_type": "code",
   "execution_count": 31,
   "id": "97cb3220-f6a4-44d5-b939-facc51b8d22e",
   "metadata": {},
   "outputs": [
    {
     "data": {
      "text/plain": [
       "array([[3, 2],\n",
       "       [0, 1]])"
      ]
     },
     "execution_count": 31,
     "metadata": {},
     "output_type": "execute_result"
    }
   ],
   "source": [
    "b"
   ]
  },
  {
   "cell_type": "code",
   "execution_count": 33,
   "id": "578ab645-e7e9-4cf1-980f-1cbe9f82a462",
   "metadata": {},
   "outputs": [
    {
     "data": {
      "text/plain": [
       "array([[0, 2],\n",
       "       [1, 3]])"
      ]
     },
     "execution_count": 33,
     "metadata": {},
     "output_type": "execute_result"
    }
   ],
   "source": [
    "np.transpose(a)"
   ]
  },
  {
   "cell_type": "code",
   "execution_count": 41,
   "id": "ef2680af-8441-49f8-8728-dbbabad5eedc",
   "metadata": {},
   "outputs": [
    {
     "data": {
      "text/plain": [
       "array([[-2.26666667,  1.06666667,  0.2       ],\n",
       "       [ 2.2       , -0.8       , -0.4       ],\n",
       "       [-0.26666667,  0.06666667,  0.2       ]])"
      ]
     },
     "execution_count": 41,
     "metadata": {},
     "output_type": "execute_result"
    }
   ],
   "source": [
    "a=np.array([(2,3,4),(5,6,7),(1,2,8)])\n",
    "np.linalg.inv(a)\n"
   ]
  },
  {
   "cell_type": "code",
   "execution_count": 42,
   "id": "7f2e0105-9121-4fdb-978c-8a388a4c36e3",
   "metadata": {},
   "outputs": [
    {
     "data": {
      "text/plain": [
       "-14.999999999999993"
      ]
     },
     "execution_count": 42,
     "metadata": {},
     "output_type": "execute_result"
    }
   ],
   "source": [
    "np.linalg.det(a)"
   ]
  },
  {
   "cell_type": "code",
   "execution_count": 43,
   "id": "1111a11c-58a6-43a3-9901-0561dfdd007f",
   "metadata": {},
   "outputs": [
    {
     "data": {
      "text/plain": [
       "array([0, 1, 3, 5])"
      ]
     },
     "execution_count": 43,
     "metadata": {},
     "output_type": "execute_result"
    }
   ],
   "source": [
    "d=np.array([0,1,1,1,3,3,5,5,5])\n",
    "np.unique(d)"
   ]
  },
  {
   "cell_type": "code",
   "execution_count": 35,
   "id": "a7696708-0aff-4243-99fe-08ac94b3dd65",
   "metadata": {},
   "outputs": [
    {
     "data": {
      "text/plain": [
       "array([1, 1, 1, 1, 2, 2, 2, 2, 3, 3, 3, 3, 4, 4, 4, 4])"
      ]
     },
     "execution_count": 35,
     "metadata": {},
     "output_type": "execute_result"
    }
   ],
   "source": [
    "#repeat\n",
    "a=np.array([1,2,3,4])\n",
    "np.repeat(a,4)"
   ]
  },
  {
   "cell_type": "code",
   "execution_count": 53,
   "id": "361beb48-af5f-4dd7-8474-f7e5ea91f6bb",
   "metadata": {},
   "outputs": [
    {
     "data": {
      "text/plain": [
       "(array([1], dtype=int64),)"
      ]
     },
     "execution_count": 53,
     "metadata": {},
     "output_type": "execute_result"
    }
   ],
   "source": [
    "# where\n",
    "a=np.array([1,2,3,4,5])\n",
    "np.where(a==2)"
   ]
  },
  {
   "cell_type": "code",
   "execution_count": 46,
   "id": "3ac4d3a9-6ec7-46a6-826f-c95261eb16f5",
   "metadata": {},
   "outputs": [
    {
     "data": {
      "text/plain": [
       "1"
      ]
     },
     "execution_count": 46,
     "metadata": {},
     "output_type": "execute_result"
    }
   ],
   "source": [
    "#indexing\n",
    "a=np.array([1,2,3,4])\n",
    "a[0]"
   ]
  },
  {
   "cell_type": "code",
   "execution_count": 55,
   "id": "54e92b12-c9c4-456f-8c34-2e727f9879c5",
   "metadata": {},
   "outputs": [],
   "source": [
    "b=np.array([(2,3,4),(8,4,5),(6,2,4)])"
   ]
  },
  {
   "cell_type": "code",
   "execution_count": 57,
   "id": "35ffe578-dcd2-4c44-b634-b56dba42631a",
   "metadata": {},
   "outputs": [
    {
     "data": {
      "text/plain": [
       "4"
      ]
     },
     "execution_count": 57,
     "metadata": {},
     "output_type": "execute_result"
    }
   ],
   "source": [
    "#indexing\n",
    "b[2,2]"
   ]
  },
  {
   "cell_type": "code",
   "execution_count": null,
   "id": "50800e23-1d02-45d6-b55e-598a4e2033cf",
   "metadata": {},
   "outputs": [],
   "source": [
    "\n",
    "\n",
    "#1-d array slicing\n",
    "a=np.array([5,6,7,8,9])\n",
    "a[0:3]"
   ]
  },
  {
   "cell_type": "code",
   "execution_count": null,
   "id": "2443f5f3-be88-4a94-ac6d-4b317819dea5",
   "metadata": {},
   "outputs": [],
   "source": [
    "#mat[row_slice,column_slice]\n",
    "#row_slice = start_row : end_row + 1 : step\n",
    "#column_slice = start_col : end_col + 1 : step\n",
    "a=np.array([(4,5,7,8),(2,3,9,2),(6,4,1,0)])\n",
    "a[1:3,1:3]\n",
    "           \n",
    "\n"
   ]
  },
  {
   "cell_type": "code",
   "execution_count": 39,
   "id": "533eab17-8a09-43a4-87fb-d151c5cb65e4",
   "metadata": {},
   "outputs": [
    {
     "data": {
      "text/plain": [
       "array([[90, 22, 30, 75, 69],\n",
       "       [66, 28,  2,  3, 99],\n",
       "       [34, 65, 43,  9, 81],\n",
       "       [18, 82, 61, 70, 20],\n",
       "       [93,  8, 77, 81, 72]])"
      ]
     },
     "execution_count": 39,
     "metadata": {},
     "output_type": "execute_result"
    }
   ],
   "source": [
    "b=np.array([(90,22,30,75,69),(66,28,2,3,99),(34,65,43,9,81),\n",
    "            (18,82,61,70,20),(93,8,77,81,72)])\n",
    "b"
   ]
  },
  {
   "cell_type": "code",
   "execution_count": 41,
   "id": "2804f95c-d2ad-4b6a-8358-8f39f7c0c35d",
   "metadata": {},
   "outputs": [
    {
     "data": {
      "text/plain": [
       "array([[65,  9],\n",
       "       [82, 70]])"
      ]
     },
     "execution_count": 41,
     "metadata": {},
     "output_type": "execute_result"
    }
   ],
   "source": [
    "b[2:4,1:4:2]"
   ]
  },
  {
   "cell_type": "code",
   "execution_count": 57,
   "id": "dd7153f4-0c05-408e-845b-212106f7c8ad",
   "metadata": {},
   "outputs": [
    {
     "data": {
      "text/plain": [
       "array([[30, 75],\n",
       "       [ 2,  3],\n",
       "       [43,  9],\n",
       "       [61, 70],\n",
       "       [77, 81]])"
      ]
     },
     "execution_count": 57,
     "metadata": {},
     "output_type": "execute_result"
    }
   ],
   "source": [
    "b[:,2:4]"
   ]
  },
  {
   "cell_type": "code",
   "execution_count": 58,
   "id": "47a9d11e-fae7-472f-8fc7-79994606518a",
   "metadata": {},
   "outputs": [
    {
     "data": {
      "text/plain": [
       "array([[66, 28,  2,  3, 99],\n",
       "       [34, 65, 43,  9, 81]])"
      ]
     },
     "execution_count": 58,
     "metadata": {},
     "output_type": "execute_result"
    }
   ],
   "source": [
    "b[1:3,:]"
   ]
  },
  {
   "cell_type": "code",
   "execution_count": 59,
   "id": "ca1487f8-efb0-49fd-b943-8eab9a0b7dc4",
   "metadata": {},
   "outputs": [
    {
     "data": {
      "text/plain": [
       "array([[90, 22, 30, 75, 69],\n",
       "       [66, 28,  2,  3, 99],\n",
       "       [34, 65, 43,  9, 81],\n",
       "       [18, 82, 61, 70, 20],\n",
       "       [93,  8, 77, 81, 72]])"
      ]
     },
     "execution_count": 59,
     "metadata": {},
     "output_type": "execute_result"
    }
   ],
   "source": [
    "b[:,:]"
   ]
  },
  {
   "cell_type": "code",
   "execution_count": 60,
   "id": "c55444cc-2a7c-4170-9ebc-18d9d1add454",
   "metadata": {},
   "outputs": [],
   "source": [
    "#array manipulation\n",
    "#concatenate\n",
    "mat1 = np.random.randint(0,100,(2,4))\n",
    "mat2 = np.random.randint(0,100,(4,4))"
   ]
  },
  {
   "cell_type": "code",
   "execution_count": 61,
   "id": "9001515f-4664-404d-9006-f91777dee77e",
   "metadata": {},
   "outputs": [
    {
     "data": {
      "text/plain": [
       "array([[40, 80, 28, 48],\n",
       "       [77, 30, 24,  6]])"
      ]
     },
     "execution_count": 61,
     "metadata": {},
     "output_type": "execute_result"
    }
   ],
   "source": [
    "mat1"
   ]
  },
  {
   "cell_type": "code",
   "execution_count": 62,
   "id": "63d21a49-e973-4829-847c-2c23c16b83f8",
   "metadata": {},
   "outputs": [
    {
     "data": {
      "text/plain": [
       "array([[ 0, 11, 57, 27],\n",
       "       [ 8, 66, 41, 22],\n",
       "       [74, 90, 32, 29],\n",
       "       [14, 99, 84, 84]])"
      ]
     },
     "execution_count": 62,
     "metadata": {},
     "output_type": "execute_result"
    }
   ],
   "source": [
    "mat2"
   ]
  },
  {
   "cell_type": "code",
   "execution_count": 66,
   "id": "e24f4b9b-994f-4bf9-af4b-7ec6245f2b8f",
   "metadata": {},
   "outputs": [
    {
     "data": {
      "text/plain": [
       "array([[40, 80, 28, 48],\n",
       "       [77, 30, 24,  6],\n",
       "       [ 0, 11, 57, 27],\n",
       "       [ 8, 66, 41, 22],\n",
       "       [74, 90, 32, 29],\n",
       "       [14, 99, 84, 84]])"
      ]
     },
     "execution_count": 66,
     "metadata": {},
     "output_type": "execute_result"
    }
   ],
   "source": [
    "np.concatenate((mat1,mat2))"
   ]
  },
  {
   "cell_type": "code",
   "execution_count": 3,
   "id": "d8e120c7-a3c1-4c55-befa-ed33638b2bc1",
   "metadata": {},
   "outputs": [
    {
     "data": {
      "text/plain": [
       "array([[ 7, 49, 29, 46],\n",
       "       [37,  8, 24, 36],\n",
       "       [ 1, 24, 13, 20],\n",
       "       [22,  8, 20, 43]])"
      ]
     },
     "execution_count": 3,
     "metadata": {},
     "output_type": "execute_result"
    }
   ],
   "source": [
    "import numpy as np\n",
    "c=np.random.randint(0,50,(4,4))\n",
    "c"
   ]
  },
  {
   "cell_type": "code",
   "execution_count": 5,
   "id": "71c4a7b5-e84c-4d90-93f8-6bd126c7fccb",
   "metadata": {},
   "outputs": [
    {
     "data": {
      "text/plain": [
       "array([[43, 17, 24, 24],\n",
       "       [29, 36, 47, 22],\n",
       "       [56, 58, 43, 55],\n",
       "       [53, 17, 37, 11]])"
      ]
     },
     "execution_count": 5,
     "metadata": {},
     "output_type": "execute_result"
    }
   ],
   "source": [
    "d=np.random.randint(10,60,(4,4))\n",
    "d"
   ]
  },
  {
   "cell_type": "code",
   "execution_count": 7,
   "id": "1cd58734-2020-46f6-b9d9-54f66b5d7e50",
   "metadata": {},
   "outputs": [
    {
     "data": {
      "text/plain": [
       "array([[ 7, 49, 29, 46, 43, 17, 24, 24],\n",
       "       [37,  8, 24, 36, 29, 36, 47, 22],\n",
       "       [ 1, 24, 13, 20, 56, 58, 43, 55],\n",
       "       [22,  8, 20, 43, 53, 17, 37, 11]])"
      ]
     },
     "execution_count": 7,
     "metadata": {},
     "output_type": "execute_result"
    }
   ],
   "source": [
    "np.concatenate((c,d),axis=1)"
   ]
  },
  {
   "cell_type": "code",
   "execution_count": 9,
   "id": "35399fda-655a-4d16-b543-7f8b3e557352",
   "metadata": {},
   "outputs": [],
   "source": [
    "#append: add value at end of array,numpy.append(arr, values, axis)\n",
    "t=np.array([(1,2,3),(4,5,6)]) \n",
    "s=np.append(t,[7,8,9])"
   ]
  },
  {
   "cell_type": "code",
   "execution_count": 11,
   "id": "14a01cb2-1bd6-4489-a20b-17ded66d8709",
   "metadata": {},
   "outputs": [
    {
     "data": {
      "text/plain": [
       "array([[1, 2, 3],\n",
       "       [4, 5, 6]])"
      ]
     },
     "execution_count": 11,
     "metadata": {},
     "output_type": "execute_result"
    }
   ],
   "source": [
    "t"
   ]
  },
  {
   "cell_type": "code",
   "execution_count": 13,
   "id": "e6e6a401-9f9e-430c-8c04-aed1b58ee40d",
   "metadata": {},
   "outputs": [
    {
     "data": {
      "text/plain": [
       "array([1, 2, 3, 4, 5, 6, 7, 8, 9])"
      ]
     },
     "execution_count": 13,
     "metadata": {},
     "output_type": "execute_result"
    }
   ],
   "source": [
    "s"
   ]
  },
  {
   "cell_type": "code",
   "execution_count": 74,
   "id": "a2d73b6a-f98f-4f46-a716-15c370da9783",
   "metadata": {},
   "outputs": [
    {
     "data": {
      "text/plain": [
       "(9,)"
      ]
     },
     "execution_count": 74,
     "metadata": {},
     "output_type": "execute_result"
    }
   ],
   "source": [
    "s.shape"
   ]
  },
  {
   "cell_type": "code",
   "execution_count": 75,
   "id": "15d3b140-3e78-461f-ac92-4883bb3c2a33",
   "metadata": {},
   "outputs": [],
   "source": [
    "s1=np.append(t, [[7,8,9]],axis = 0)"
   ]
  },
  {
   "cell_type": "code",
   "execution_count": 76,
   "id": "b1a6eb59-3c23-48ab-ba8a-b6ac83b6c91a",
   "metadata": {},
   "outputs": [
    {
     "data": {
      "text/plain": [
       "array([[1, 2, 3],\n",
       "       [4, 5, 6],\n",
       "       [7, 8, 9]])"
      ]
     },
     "execution_count": 76,
     "metadata": {},
     "output_type": "execute_result"
    }
   ],
   "source": [
    "s1"
   ]
  },
  {
   "cell_type": "code",
   "execution_count": 78,
   "id": "c5efd2a3-a05e-4e7d-817b-08516c026314",
   "metadata": {},
   "outputs": [
    {
     "data": {
      "text/plain": [
       "array([[1, 2, 3],\n",
       "       [4, 5, 6]])"
      ]
     },
     "execution_count": 78,
     "metadata": {},
     "output_type": "execute_result"
    }
   ],
   "source": [
    "t"
   ]
  },
  {
   "cell_type": "code",
   "execution_count": 79,
   "id": "c147eee2-12ea-4cb7-b9e2-02af826e07ac",
   "metadata": {},
   "outputs": [],
   "source": [
    "s2=np.append(t,[[5,6,8],[7,1,2]], axis=1)"
   ]
  },
  {
   "cell_type": "code",
   "execution_count": 80,
   "id": "bfdd9089-590a-47c4-aac3-f0b7be9007e4",
   "metadata": {},
   "outputs": [
    {
     "data": {
      "text/plain": [
       "array([[1, 2, 3, 5, 6, 8],\n",
       "       [4, 5, 6, 7, 1, 2]])"
      ]
     },
     "execution_count": 80,
     "metadata": {},
     "output_type": "execute_result"
    }
   ],
   "source": [
    "s2"
   ]
  },
  {
   "cell_type": "code",
   "execution_count": 49,
   "id": "e712edac-8ad9-4b8d-a6a0-86542c3ae8df",
   "metadata": {},
   "outputs": [],
   "source": [
    "#insert: This function inserts values in the input array along \n",
    "#the given axis and before the given index.\n",
    "#numpy.insert(arr, obj, values, axis)\n",
    "a = np.array([[1,2],[3,4],[5,6]]) \n",
    "d=np.insert(a,1,[11])"
   ]
  },
  {
   "cell_type": "code",
   "execution_count": 51,
   "id": "504be7e3-a25e-4af7-a4f5-51848d832f34",
   "metadata": {},
   "outputs": [
    {
     "data": {
      "text/plain": [
       "array([ 1, 11,  2,  3,  4,  5,  6])"
      ]
     },
     "execution_count": 51,
     "metadata": {},
     "output_type": "execute_result"
    }
   ],
   "source": [
    "d"
   ]
  },
  {
   "cell_type": "code",
   "execution_count": 53,
   "id": "f0a7627a-f6b0-4c77-ae2a-3aa27cbb5e22",
   "metadata": {},
   "outputs": [],
   "source": [
    "b=np.insert(a,1,[11],axis = 0) "
   ]
  },
  {
   "cell_type": "code",
   "execution_count": 55,
   "id": "ab2f94c8-a207-422e-978e-abce01b59e69",
   "metadata": {},
   "outputs": [
    {
     "data": {
      "text/plain": [
       "array([[ 1,  2],\n",
       "       [11, 11],\n",
       "       [ 3,  4],\n",
       "       [ 5,  6]])"
      ]
     },
     "execution_count": 55,
     "metadata": {},
     "output_type": "execute_result"
    }
   ],
   "source": [
    "b"
   ]
  },
  {
   "cell_type": "code",
   "execution_count": 57,
   "id": "ba7dc655-4c6e-4435-8292-06d558938ff0",
   "metadata": {},
   "outputs": [],
   "source": [
    "b=np.insert(a,1,[11,12,13],axis = 1) "
   ]
  },
  {
   "cell_type": "code",
   "execution_count": 59,
   "id": "07d270b5-7ab2-4e4e-803c-d4cdf797b0c1",
   "metadata": {},
   "outputs": [
    {
     "data": {
      "text/plain": [
       "array([[ 1, 11,  2],\n",
       "       [ 3, 12,  4],\n",
       "       [ 5, 13,  6]])"
      ]
     },
     "execution_count": 59,
     "metadata": {},
     "output_type": "execute_result"
    }
   ],
   "source": [
    "b"
   ]
  },
  {
   "cell_type": "code",
   "execution_count": 33,
   "id": "37e624e5-2cf1-4e17-a8d5-6246e3ce10e7",
   "metadata": {},
   "outputs": [
    {
     "data": {
      "text/plain": [
       "array([[ 0,  1,  2,  3],\n",
       "       [ 4,  5,  6,  7],\n",
       "       [ 8,  9, 10, 11],\n",
       "       [12, 13, 14, 15]])"
      ]
     },
     "execution_count": 33,
     "metadata": {},
     "output_type": "execute_result"
    }
   ],
   "source": [
    "#split\n",
    "a = np.arange(16).reshape(4,4)\n",
    "a"
   ]
  },
  {
   "cell_type": "code",
   "execution_count": 37,
   "id": "70c7efb9-8f3f-4e63-ae21-4137b6aefec8",
   "metadata": {},
   "outputs": [
    {
     "data": {
      "text/plain": [
       "[array([[ 0,  1],\n",
       "        [ 4,  5],\n",
       "        [ 8,  9],\n",
       "        [12, 13]]),\n",
       " array([[ 2,  3],\n",
       "        [ 6,  7],\n",
       "        [10, 11],\n",
       "        [14, 15]])]"
      ]
     },
     "execution_count": 37,
     "metadata": {},
     "output_type": "execute_result"
    }
   ],
   "source": [
    "np.split(a,2,axis=1)"
   ]
  },
  {
   "cell_type": "code",
   "execution_count": 89,
   "id": "d29fd542-4c6b-4763-af44-8c37002a3971",
   "metadata": {},
   "outputs": [
    {
     "data": {
      "text/plain": [
       "[array([[ 0,  1],\n",
       "        [ 4,  5],\n",
       "        [ 8,  9],\n",
       "        [12, 13]]),\n",
       " array([[ 2,  3],\n",
       "        [ 6,  7],\n",
       "        [10, 11],\n",
       "        [14, 15]])]"
      ]
     },
     "execution_count": 89,
     "metadata": {},
     "output_type": "execute_result"
    }
   ],
   "source": [
    "np.hsplit(a,2)"
   ]
  },
  {
   "cell_type": "code",
   "execution_count": 90,
   "id": "e5ac895a-96b7-458f-8021-cbf282c12f2a",
   "metadata": {},
   "outputs": [
    {
     "data": {
      "text/plain": [
       "[array([[0, 1, 2, 3],\n",
       "        [4, 5, 6, 7]]),\n",
       " array([[ 8,  9, 10, 11],\n",
       "        [12, 13, 14, 15]])]"
      ]
     },
     "execution_count": 90,
     "metadata": {},
     "output_type": "execute_result"
    }
   ],
   "source": [
    "np.vsplit(a,2)"
   ]
  },
  {
   "cell_type": "code",
   "execution_count": 91,
   "id": "8c743c8f-c5f3-4d91-9b0c-7996e2339954",
   "metadata": {},
   "outputs": [
    {
     "data": {
      "text/plain": [
       "[array([[ 0,  1],\n",
       "        [ 4,  5],\n",
       "        [ 8,  9],\n",
       "        [12, 13]]),\n",
       " array([[ 2,  3],\n",
       "        [ 6,  7],\n",
       "        [10, 11],\n",
       "        [14, 15]])]"
      ]
     },
     "execution_count": 91,
     "metadata": {},
     "output_type": "execute_result"
    }
   ],
   "source": [
    "np.split(a,2,axis=1)"
   ]
  },
  {
   "cell_type": "code",
   "execution_count": 92,
   "id": "58ac9426-9330-499d-a1f5-48d877812db5",
   "metadata": {},
   "outputs": [],
   "source": [
    "c=np.arange(1,11)"
   ]
  },
  {
   "cell_type": "code",
   "execution_count": 93,
   "id": "09716ad3-047b-482f-a19b-d94c5d6824c6",
   "metadata": {},
   "outputs": [
    {
     "data": {
      "text/plain": [
       "array([ 1,  2,  3,  4,  5,  6,  7,  8,  9, 10])"
      ]
     },
     "execution_count": 93,
     "metadata": {},
     "output_type": "execute_result"
    }
   ],
   "source": [
    "c"
   ]
  },
  {
   "cell_type": "code",
   "execution_count": 94,
   "id": "5024389a-e006-49c4-b3ef-de546b81b43d",
   "metadata": {},
   "outputs": [
    {
     "data": {
      "text/plain": [
       "array([[ 1,  2],\n",
       "       [ 3,  4],\n",
       "       [ 5,  6],\n",
       "       [ 7,  8],\n",
       "       [ 9, 10]])"
      ]
     },
     "execution_count": 94,
     "metadata": {},
     "output_type": "execute_result"
    }
   ],
   "source": [
    "c.reshape(5,2)"
   ]
  },
  {
   "cell_type": "code",
   "execution_count": 61,
   "id": "8bfef414-8453-4758-98b4-fe076dd2369c",
   "metadata": {},
   "outputs": [
    {
     "data": {
      "text/plain": [
       "array([[[1, 2],\n",
       "        [3, 4]],\n",
       "\n",
       "       [[5, 6],\n",
       "        [7, 8]]])"
      ]
     },
     "execution_count": 61,
     "metadata": {},
     "output_type": "execute_result"
    }
   ],
   "source": [
    "#stack:This function joins the sequence of arrays along a new axis\n",
    "a = np.array([[1,2],[3,4]])\n",
    "b = np.array([[5,6],[7,8]]) \n",
    "np.stack((a,b))"
   ]
  },
  {
   "cell_type": "code",
   "execution_count": 96,
   "id": "61e091d8-3c25-4a4a-98b9-2726f3095662",
   "metadata": {},
   "outputs": [
    {
     "data": {
      "text/plain": [
       "array([[1, 2, 5, 6],\n",
       "       [3, 4, 7, 8]])"
      ]
     },
     "execution_count": 96,
     "metadata": {},
     "output_type": "execute_result"
    }
   ],
   "source": [
    "np.hstack((a,b))"
   ]
  },
  {
   "cell_type": "code",
   "execution_count": 97,
   "id": "5531652a-ff3c-48d2-a94e-1080d197e3e0",
   "metadata": {
    "scrolled": true
   },
   "outputs": [
    {
     "data": {
      "text/plain": [
       "array([[1, 2],\n",
       "       [3, 4],\n",
       "       [5, 6],\n",
       "       [7, 8]])"
      ]
     },
     "execution_count": 97,
     "metadata": {},
     "output_type": "execute_result"
    }
   ],
   "source": [
    "np.vstack((a,b))"
   ]
  },
  {
   "cell_type": "code",
   "execution_count": 99,
   "id": "9aff4f7d-d024-4eaf-8612-95f985598eb4",
   "metadata": {},
   "outputs": [],
   "source": [
    "#This function returns a new array with the specified subarray deleted from the input array\n",
    "#Numpy.delete(arr, obj, axis)\n",
    "a = np.arange(12).reshape(3,4) \n"
   ]
  },
  {
   "cell_type": "code",
   "execution_count": 100,
   "id": "9743db8c-31bf-4846-9378-e6afccfcca29",
   "metadata": {},
   "outputs": [
    {
     "data": {
      "text/plain": [
       "array([[ 0,  1,  2,  3],\n",
       "       [ 4,  5,  6,  7],\n",
       "       [ 8,  9, 10, 11]])"
      ]
     },
     "execution_count": 100,
     "metadata": {},
     "output_type": "execute_result"
    }
   ],
   "source": [
    "a"
   ]
  },
  {
   "cell_type": "code",
   "execution_count": 101,
   "id": "4703b239-3e13-4b71-9e14-dccd9241f239",
   "metadata": {},
   "outputs": [],
   "source": [
    "a2=np.delete(a,5)"
   ]
  },
  {
   "cell_type": "code",
   "execution_count": 102,
   "id": "2722c96e-fdf1-4392-8d1e-f2ce0f91d8b1",
   "metadata": {},
   "outputs": [
    {
     "data": {
      "text/plain": [
       "array([ 0,  1,  2,  3,  4,  6,  7,  8,  9, 10, 11])"
      ]
     },
     "execution_count": 102,
     "metadata": {},
     "output_type": "execute_result"
    }
   ],
   "source": [
    "a2"
   ]
  },
  {
   "cell_type": "code",
   "execution_count": null,
   "id": "1e1c109c-16fa-4b84-96fb-c5c73e078bf6",
   "metadata": {},
   "outputs": [],
   "source": []
  }
 ],
 "metadata": {
  "kernelspec": {
   "display_name": "Python 3 (ipykernel)",
   "language": "python",
   "name": "python3"
  },
  "language_info": {
   "codemirror_mode": {
    "name": "ipython",
    "version": 3
   },
   "file_extension": ".py",
   "mimetype": "text/x-python",
   "name": "python",
   "nbconvert_exporter": "python",
   "pygments_lexer": "ipython3",
   "version": "3.12.4"
  }
 },
 "nbformat": 4,
 "nbformat_minor": 5
}
