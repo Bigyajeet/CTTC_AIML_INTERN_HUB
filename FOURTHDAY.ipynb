{
 "cells": [
  {
   "cell_type": "code",
   "execution_count": 1,
   "id": "288dc1d9-5b32-476a-95fb-94fcf96a16a4",
   "metadata": {},
   "outputs": [
    {
     "data": {
      "text/plain": [
       "array([[  1,   2,   3,   4],\n",
       "       [  5,   6,   7, 800]])"
      ]
     },
     "execution_count": 1,
     "metadata": {},
     "output_type": "execute_result"
    }
   ],
   "source": [
    "import numpy as np\n",
    "b=np.array([(1,2,3,4),(5,6,7,800)])\n",
    "b\n"
   ]
  },
  {
   "cell_type": "code",
   "execution_count": 2,
   "id": "7b0d5526-e8a6-4c50-b70a-8cc9ad92bf65",
   "metadata": {},
   "outputs": [
    {
     "data": {
      "text/plain": [
       "(2, 4)"
      ]
     },
     "execution_count": 2,
     "metadata": {},
     "output_type": "execute_result"
    }
   ],
   "source": [
    "b.shape"
   ]
  },
  {
   "cell_type": "code",
   "execution_count": 3,
   "id": "2d24b7af-c606-430b-b01b-c576742fe928",
   "metadata": {},
   "outputs": [
    {
     "data": {
      "text/plain": [
       "8"
      ]
     },
     "execution_count": 3,
     "metadata": {},
     "output_type": "execute_result"
    }
   ],
   "source": [
    "b.size"
   ]
  },
  {
   "cell_type": "code",
   "execution_count": 4,
   "id": "3499c562-abe7-48b9-b2bf-16a4fd233f3c",
   "metadata": {},
   "outputs": [
    {
     "data": {
      "text/plain": [
       "2"
      ]
     },
     "execution_count": 4,
     "metadata": {},
     "output_type": "execute_result"
    }
   ],
   "source": [
    "b.ndim"
   ]
  },
  {
   "cell_type": "code",
   "execution_count": 5,
   "id": "6143e19b-92df-4deb-82ab-e11fb26e6c43",
   "metadata": {},
   "outputs": [
    {
     "data": {
      "text/plain": [
       "array([ 1,  2,  3,  4,  5,  6,  7,  8,  9, 10])"
      ]
     },
     "execution_count": 5,
     "metadata": {},
     "output_type": "execute_result"
    }
   ],
   "source": [
    "np.arange(1,11)"
   ]
  },
  {
   "cell_type": "code",
   "execution_count": null,
   "id": "c658843e-5e4b-4654-91dd-8367c9ec3e94",
   "metadata": {},
   "outputs": [],
   "source": []
  },
  {
   "cell_type": "code",
   "execution_count": 6,
   "id": "a69da4f8-67bc-4424-9072-d514a7932f9f",
   "metadata": {},
   "outputs": [
    {
     "data": {
      "text/plain": [
       "array([ 1,  3,  5,  7,  9, 11, 13, 15, 17, 19])"
      ]
     },
     "execution_count": 6,
     "metadata": {},
     "output_type": "execute_result"
    }
   ],
   "source": [
    "np.arange(1,20,2)"
   ]
  },
  {
   "cell_type": "code",
   "execution_count": 7,
   "id": "36726ef4-5766-49f0-8e37-e160e8c9594a",
   "metadata": {},
   "outputs": [
    {
     "data": {
      "text/plain": [
       "array([0., 0., 0., 0.])"
      ]
     },
     "execution_count": 7,
     "metadata": {},
     "output_type": "execute_result"
    }
   ],
   "source": [
    "np.zeros(4)"
   ]
  },
  {
   "cell_type": "code",
   "execution_count": 8,
   "id": "d91349cd-be09-455c-8f35-f64f737273e4",
   "metadata": {},
   "outputs": [
    {
     "data": {
      "text/plain": [
       "array([[0, 0, 0, 0],\n",
       "       [0, 0, 0, 0],\n",
       "       [0, 0, 0, 0],\n",
       "       [0, 0, 0, 0]])"
      ]
     },
     "execution_count": 8,
     "metadata": {},
     "output_type": "execute_result"
    }
   ],
   "source": [
    "np.zeros((4,4),dtype=int)"
   ]
  },
  {
   "cell_type": "code",
   "execution_count": 11,
   "id": "d1b30126-d15d-4d5d-8281-0333e0799596",
   "metadata": {},
   "outputs": [
    {
     "data": {
      "text/plain": [
       "array([[1., 1., 1., 1.],\n",
       "       [1., 1., 1., 1.],\n",
       "       [1., 1., 1., 1.],\n",
       "       [1., 1., 1., 1.]])"
      ]
     },
     "execution_count": 11,
     "metadata": {},
     "output_type": "execute_result"
    }
   ],
   "source": [
    "np.ones((4,4))"
   ]
  },
  {
   "cell_type": "code",
   "execution_count": 12,
   "id": "8c522002-d5b7-4da4-9ab8-fa4c1b3eb7e1",
   "metadata": {},
   "outputs": [
    {
     "data": {
      "text/plain": [
       "array([[8, 8, 8, 8, 8],\n",
       "       [8, 8, 8, 8, 8],\n",
       "       [8, 8, 8, 8, 8],\n",
       "       [8, 8, 8, 8, 8]])"
      ]
     },
     "execution_count": 12,
     "metadata": {},
     "output_type": "execute_result"
    }
   ],
   "source": [
    "np.full((4,5),8)"
   ]
  },
  {
   "cell_type": "code",
   "execution_count": 14,
   "id": "8e5ecc83-1995-402b-b02f-6f4422f11787",
   "metadata": {},
   "outputs": [
    {
     "data": {
      "text/plain": [
       "array([  1.,  34.,  67., 100.])"
      ]
     },
     "execution_count": 14,
     "metadata": {},
     "output_type": "execute_result"
    }
   ],
   "source": [
    "np.linspace(1,100,4)"
   ]
  },
  {
   "cell_type": "code",
   "execution_count": 24,
   "id": "b80d88ee-5602-4064-868b-3b8d634457f4",
   "metadata": {},
   "outputs": [
    {
     "data": {
      "text/plain": [
       "array([[1, 0, 0, 0],\n",
       "       [0, 1, 0, 0],\n",
       "       [0, 0, 1, 0],\n",
       "       [0, 0, 0, 1]])"
      ]
     },
     "execution_count": 24,
     "metadata": {},
     "output_type": "execute_result"
    }
   ],
   "source": [
    "np.eye(4).astype(int) #typecating"
   ]
  },
  {
   "cell_type": "code",
   "execution_count": 25,
   "id": "fa909f58-3550-49f8-96a1-2b8033209e0d",
   "metadata": {},
   "outputs": [
    {
     "data": {
      "text/plain": [
       "array([0.20196914, 0.17820954, 0.51637968, 0.20419166])"
      ]
     },
     "execution_count": 25,
     "metadata": {},
     "output_type": "execute_result"
    }
   ],
   "source": [
    "np.random.rand(4)"
   ]
  },
  {
   "cell_type": "code",
   "execution_count": 26,
   "id": "c7e35935-63ac-47f8-9806-7bde1a94933c",
   "metadata": {},
   "outputs": [
    {
     "data": {
      "text/plain": [
       "array([[0.77326964, 0.47659053, 0.12583031, 0.77561439],\n",
       "       [0.64248812, 0.35018192, 0.63153506, 0.64261225],\n",
       "       [0.98953018, 0.2207898 , 0.26003497, 0.6558437 ]])"
      ]
     },
     "execution_count": 26,
     "metadata": {},
     "output_type": "execute_result"
    }
   ],
   "source": [
    "np.random.rand(3,4)"
   ]
  },
  {
   "cell_type": "code",
   "execution_count": 27,
   "id": "7dc71a09-906f-4635-a512-f551d401b0d4",
   "metadata": {},
   "outputs": [
    {
     "data": {
      "text/plain": [
       "array([[84.17768915, 16.20924093,  0.86370198, 71.68247604],\n",
       "       [87.16482487, 15.7687787 , 67.72994732, 67.2772449 ],\n",
       "       [86.92449746, 41.03954784, 61.33328524, 83.12877445]])"
      ]
     },
     "execution_count": 27,
     "metadata": {},
     "output_type": "execute_result"
    }
   ],
   "source": [
    "             np.random.rand(3,4)*100"
   ]
  },
  {
   "cell_type": "code",
   "execution_count": 28,
   "id": "d7cb3aa3-a9f0-45b6-b43f-8ace96f844c9",
   "metadata": {},
   "outputs": [
    {
     "data": {
      "text/plain": [
       "array([[8, 1, 2],\n",
       "       [6, 5, 2],\n",
       "       [3, 5, 9]])"
      ]
     },
     "execution_count": 28,
     "metadata": {},
     "output_type": "execute_result"
    }
   ],
   "source": [
    " np.random.randint(1,10,(3,3))"
   ]
  },
  {
   "cell_type": "code",
   "execution_count": 33,
   "id": "4aa5b135-292b-4efb-be9a-4b6409093318",
   "metadata": {},
   "outputs": [
    {
     "data": {
      "text/plain": [
       "array([[2, 4, 6, 8]])"
      ]
     },
     "execution_count": 33,
     "metadata": {},
     "output_type": "execute_result"
    }
   ],
   "source": [
    "#mathematical operators\n",
    "b=np.array([(1,2,3,4)])\n",
    "a=np.array([(1,2,3,4)] )   \n",
    "np.add(b,a)"
   ]
  },
  {
   "cell_type": "code",
   "execution_count": 34,
   "id": "4bd1f808-bd80-4a0f-b548-af9d850da9c2",
   "metadata": {},
   "outputs": [
    {
     "data": {
      "text/plain": [
       "array([[0, 0, 0, 0]])"
      ]
     },
     "execution_count": 34,
     "metadata": {},
     "output_type": "execute_result"
    }
   ],
   "source": [
    "np.subtract(b,a)"
   ]
  },
  {
   "cell_type": "code",
   "execution_count": 35,
   "id": "97ce8893-bb06-4111-8efe-fe309370ba1b",
   "metadata": {},
   "outputs": [
    {
     "data": {
      "text/plain": [
       "array([[ 1,  4,  9, 16]])"
      ]
     },
     "execution_count": 35,
     "metadata": {},
     "output_type": "execute_result"
    }
   ],
   "source": [
    "np.multiply(b,a)"
   ]
  },
  {
   "cell_type": "code",
   "execution_count": 37,
   "id": "85fef9d9-4862-45cb-83f1-ce719d17257d",
   "metadata": {},
   "outputs": [
    {
     "data": {
      "text/plain": [
       "array([[1, 1, 1, 1]])"
      ]
     },
     "execution_count": 37,
     "metadata": {},
     "output_type": "execute_result"
    }
   ],
   "source": [
    "np.divide(b,a).astype(int)"
   ]
  },
  {
   "cell_type": "code",
   "execution_count": 38,
   "id": "bb34bf8b-719f-43b6-b2fc-5fab772cf3c9",
   "metadata": {},
   "outputs": [],
   "source": [
    "c=np.array([(1,2,3),(4,5,6),(7,8,9)])\n",
    "d=np.array([(1,4,5),(9,6,8),(1,2,3)])"
   ]
  },
  {
   "cell_type": "code",
   "execution_count": 39,
   "id": "d5f40890-bf75-42f0-b091-6e880f625610",
   "metadata": {},
   "outputs": [
    {
     "data": {
      "text/plain": [
       "array([[ 2,  6,  8],\n",
       "       [13, 11, 14],\n",
       "       [ 8, 10, 12]])"
      ]
     },
     "execution_count": 39,
     "metadata": {},
     "output_type": "execute_result"
    }
   ],
   "source": [
    "np.add(c,d)"
   ]
  },
  {
   "cell_type": "code",
   "execution_count": 40,
   "id": "9c13d0ac-f67d-4605-be1e-078a475ec524",
   "metadata": {},
   "outputs": [
    {
     "data": {
      "text/plain": [
       "array([[ 0, -2, -2],\n",
       "       [-5, -1, -2],\n",
       "       [ 6,  6,  6]])"
      ]
     },
     "execution_count": 40,
     "metadata": {},
     "output_type": "execute_result"
    }
   ],
   "source": [
    "np.subtract(c,d)"
   ]
  },
  {
   "cell_type": "code",
   "execution_count": 41,
   "id": "23fc92bf-98cf-426c-a3e3-7b9ad5535700",
   "metadata": {},
   "outputs": [
    {
     "data": {
      "text/plain": [
       "array([[ 1,  8, 15],\n",
       "       [36, 30, 48],\n",
       "       [ 7, 16, 27]])"
      ]
     },
     "execution_count": 41,
     "metadata": {},
     "output_type": "execute_result"
    }
   ],
   "source": [
    "np.multiply(c,d)"
   ]
  },
  {
   "cell_type": "code",
   "execution_count": 42,
   "id": "48eceb6b-772e-45c6-b2ef-b11d5c6254b7",
   "metadata": {},
   "outputs": [
    {
     "data": {
      "text/plain": [
       "array([[1, 0, 0],\n",
       "       [0, 0, 0],\n",
       "       [7, 4, 3]])"
      ]
     },
     "execution_count": 42,
     "metadata": {},
     "output_type": "execute_result"
    }
   ],
   "source": [
    "np.divide(c,d).astype(int)"
   ]
  },
  {
   "cell_type": "code",
   "execution_count": 46,
   "id": "cef17ce8-5935-42b4-9aae-11f06bf6a648",
   "metadata": {},
   "outputs": [
    {
     "data": {
      "text/plain": [
       "array([2, 3, 4, 6])"
      ]
     },
     "execution_count": 46,
     "metadata": {},
     "output_type": "execute_result"
    }
   ],
   "source": [
    "a=np.array([-2,-3,-4,6])\n",
    "np.abs(a)"
   ]
  },
  {
   "cell_type": "code",
   "execution_count": 47,
   "id": "b71f0e0b-33c1-45c9-aa9c-a4532c4e3714",
   "metadata": {},
   "outputs": [
    {
     "data": {
      "text/plain": [
       "array([[0, 2, 3],\n",
       "       [4, 5, 6],\n",
       "       [0, 0, 0]])"
      ]
     },
     "execution_count": 47,
     "metadata": {},
     "output_type": "execute_result"
    }
   ],
   "source": [
    "c=np.array([(1,2,3),(4,5,6),(7,8,9)])\n",
    "d=np.array([(1,4,5),(9,6,8),(1,2,3)])\n",
    "np.mod(c,d)"
   ]
  },
  {
   "cell_type": "code",
   "execution_count": 48,
   "id": "75cc4c74-be4f-4de2-bf9d-f121d8f44c0d",
   "metadata": {},
   "outputs": [
    {
     "data": {
      "text/plain": [
       "array([[0, 0, 0, 0]])"
      ]
     },
     "execution_count": 48,
     "metadata": {},
     "output_type": "execute_result"
    }
   ],
   "source": [
    "b=np.array([(1,2,3,4)])\n",
    "a=np.array([(1,2,3,4)] )   \n",
    "np.mod(b,a)"
   ]
  },
  {
   "cell_type": "code",
   "execution_count": 49,
   "id": "e197b1f2-82c0-418a-809b-ff1d4e4d4985",
   "metadata": {},
   "outputs": [
    {
     "data": {
      "text/plain": [
       "array([[ 0.84147098,  0.90929743,  0.14112001, -0.7568025 ]])"
      ]
     },
     "execution_count": 49,
     "metadata": {},
     "output_type": "execute_result"
    }
   ],
   "source": [
    "np.sin(a)"
   ]
  },
  {
   "cell_type": "code",
   "execution_count": 50,
   "id": "3c33c999-3f02-4b38-a07b-70757cd32043",
   "metadata": {},
   "outputs": [
    {
     "data": {
      "text/plain": [
       "array([[ 0.54030231, -0.41614684, -0.9899925 , -0.65364362]])"
      ]
     },
     "execution_count": 50,
     "metadata": {},
     "output_type": "execute_result"
    }
   ],
   "source": [
    "np.cos(a)"
   ]
  },
  {
   "cell_type": "code",
   "execution_count": 51,
   "id": "3bcb9c82-05f9-4824-aa41-af602f287d32",
   "metadata": {},
   "outputs": [
    {
     "data": {
      "text/plain": [
       "array([[ 1.55740772, -2.18503986, -0.14254654,  1.15782128]])"
      ]
     },
     "execution_count": 51,
     "metadata": {},
     "output_type": "execute_result"
    }
   ],
   "source": [
    "np.tan(a)"
   ]
  },
  {
   "cell_type": "code",
   "execution_count": 52,
   "id": "539f75df-c407-48c6-9662-7301e32bcf02",
   "metadata": {},
   "outputs": [
    {
     "data": {
      "text/plain": [
       "array([[ 2.71828183,  7.3890561 , 20.08553692, 54.59815003]])"
      ]
     },
     "execution_count": 52,
     "metadata": {},
     "output_type": "execute_result"
    }
   ],
   "source": [
    "np.exp(a)"
   ]
  },
  {
   "cell_type": "code",
   "execution_count": 54,
   "id": "c1691d48-e4b7-495d-b349-182336a9d2e0",
   "metadata": {},
   "outputs": [
    {
     "data": {
      "text/plain": [
       "array([[ 1,  4,  9, 16]], dtype=int32)"
      ]
     },
     "execution_count": 54,
     "metadata": {},
     "output_type": "execute_result"
    }
   ],
   "source": [
    "np.power(a,2)"
   ]
  },
  {
   "cell_type": "code",
   "execution_count": 56,
   "id": "d8ed80d9-c3a4-4da5-a352-b6c9f8de8609",
   "metadata": {},
   "outputs": [
    {
     "data": {
      "text/plain": [
       "90"
      ]
     },
     "execution_count": 56,
     "metadata": {},
     "output_type": "execute_result"
    }
   ],
   "source": [
    "    #statistical operator\n",
    "a=np.array([5,6,7,8,90])\n",
    "np.max(a)"
   ]
  },
  {
   "cell_type": "code",
   "execution_count": 57,
   "id": "c413b9e1-0237-429d-994a-74c287fb0877",
   "metadata": {},
   "outputs": [
    {
     "data": {
      "text/plain": [
       "23.2"
      ]
     },
     "execution_count": 57,
     "metadata": {},
     "output_type": "execute_result"
    }
   ],
   "source": [
    "np.mean(a)"
   ]
  },
  {
   "cell_type": "code",
   "execution_count": 58,
   "id": "c5be8358-08dd-4123-8941-ded55310e230",
   "metadata": {},
   "outputs": [
    {
     "data": {
      "text/plain": [
       "7.0"
      ]
     },
     "execution_count": 58,
     "metadata": {},
     "output_type": "execute_result"
    }
   ],
   "source": [
    "np.median(a)"
   ]
  },
  {
   "cell_type": "code",
   "execution_count": 59,
   "id": "cf64563b-008d-4cb8-aa25-3cb0dadff189",
   "metadata": {},
   "outputs": [
    {
     "data": {
      "text/plain": [
       "33.41496670655232"
      ]
     },
     "execution_count": 59,
     "metadata": {},
     "output_type": "execute_result"
    }
   ],
   "source": [
    "np.std(a)"
   ]
  },
  {
   "cell_type": "code",
   "execution_count": 61,
   "id": "26f59ff5-4fe5-483f-b76b-714331a22801",
   "metadata": {},
   "outputs": [
    {
     "data": {
      "text/plain": [
       "5.666666666666667"
      ]
     },
     "execution_count": 61,
     "metadata": {},
     "output_type": "execute_result"
    }
   ],
   "source": [
    "c=np.array([(1,2,3),(5,6,7),(8,9,10)])\n",
    "np.mean(c)"
   ]
  },
  {
   "cell_type": "code",
   "execution_count": 62,
   "id": "e8d08e6f-37bd-44cd-a74e-0f443dbf6f4d",
   "metadata": {},
   "outputs": [
    {
     "data": {
      "text/plain": [
       "array([4.66666667, 5.66666667, 6.66666667])"
      ]
     },
     "execution_count": 62,
     "metadata": {},
     "output_type": "execute_result"
    }
   ],
   "source": [
    "#return mean columnwise\n",
    "np.mean(c,axis=0)"
   ]
  },
  {
   "cell_type": "code",
   "execution_count": 63,
   "id": "f0a1486f-bc97-4e95-9e1f-3ef5cf8bb062",
   "metadata": {},
   "outputs": [
    {
     "data": {
      "text/plain": [
       "array([2., 6., 9.])"
      ]
     },
     "execution_count": 63,
     "metadata": {},
     "output_type": "execute_result"
    }
   ],
   "source": [
    "np.mean(c,axis=1)"
   ]
  },
  {
   "cell_type": "code",
   "execution_count": 64,
   "id": "47887756-62cd-4db6-8866-f708b02e84fa",
   "metadata": {},
   "outputs": [
    {
     "data": {
      "text/plain": [
       "array([ 3,  7, 10])"
      ]
     },
     "execution_count": 64,
     "metadata": {},
     "output_type": "execute_result"
    }
   ],
   "source": [
    "#rowwisemaximum\n",
    "np.max(c,axis=1)"
   ]
  },
  {
   "cell_type": "code",
   "execution_count": 65,
   "id": "9e6a7ce1-4f61-4070-b834-b6e2f78053ba",
   "metadata": {},
   "outputs": [
    {
     "data": {
      "text/plain": [
       "array([1, 5, 8])"
      ]
     },
     "execution_count": 65,
     "metadata": {},
     "output_type": "execute_result"
    }
   ],
   "source": [
    "np.min(c,axis=1)"
   ]
  },
  {
   "cell_type": "code",
   "execution_count": 66,
   "id": "ad2bf672-8bbc-4981-900a-6451b2f6bc90",
   "metadata": {},
   "outputs": [
    {
     "data": {
      "text/plain": [
       "array([[0.5, 1. , 1.5],\n",
       "       [2.5, 3. , 3.5],\n",
       "       [4. , 4.5, 5. ]])"
      ]
     },
     "execution_count": 66,
     "metadata": {},
     "output_type": "execute_result"
    }
   ],
   "source": [
    "np.divide(c,2)"
   ]
  },
  {
   "cell_type": "code",
   "execution_count": 67,
   "id": "4d78394c-8e20-4385-b5b4-216eaaeea2ce",
   "metadata": {},
   "outputs": [
    {
     "data": {
      "text/plain": [
       "array([[ 3,  6,  9],\n",
       "       [15, 18, 21],\n",
       "       [24, 27, 30]])"
      ]
     },
     "execution_count": 67,
     "metadata": {},
     "output_type": "execute_result"
    }
   ],
   "source": [
    "np.multiply(c,3)"
   ]
  },
  {
   "cell_type": "code",
   "execution_count": 71,
   "id": "5c2cbb09-4aca-40d6-83ed-360d6b862def",
   "metadata": {},
   "outputs": [
    {
     "data": {
      "text/plain": [
       "array([[28, 18],\n",
       "       [ 9,  4]])"
      ]
     },
     "execution_count": 71,
     "metadata": {},
     "output_type": "execute_result"
    }
   ],
   "source": [
    "a=np.array([9,1,2,3]).reshape(2,2)\n",
    "b=np.array([3,2,1,0]).reshape(2,2)\n",
    "np.dot(a,b)"
   ]
  },
  {
   "cell_type": "code",
   "execution_count": 72,
   "id": "191a8e4d-7df3-4843-b8ff-c66589d2fcf9",
   "metadata": {},
   "outputs": [
    {
     "data": {
      "text/plain": [
       "array([[9, 2],\n",
       "       [1, 3]])"
      ]
     },
     "execution_count": 72,
     "metadata": {},
     "output_type": "execute_result"
    }
   ],
   "source": [
    "np.transpose(a)"
   ]
  },
  {
   "cell_type": "code",
   "execution_count": 74,
   "id": "3553e68f-6ba5-430f-8d86-a97afa8b655e",
   "metadata": {},
   "outputs": [
    {
     "data": {
      "text/plain": [
       "array([[9, 2],\n",
       "       [1, 3]])"
      ]
     },
     "execution_count": 74,
     "metadata": {},
     "output_type": "execute_result"
    }
   ],
   "source": [
    "a.T"
   ]
  },
  {
   "cell_type": "code",
   "execution_count": 78,
   "id": "5beab88b-3eb9-4a16-a854-358b380111e8",
   "metadata": {},
   "outputs": [
    {
     "data": {
      "text/plain": [
       "array([[ 0.12, -0.04],\n",
       "       [-0.08,  0.36]])"
      ]
     },
     "execution_count": 78,
     "metadata": {},
     "output_type": "execute_result"
    }
   ],
   "source": [
    "d=np.array([(1,2,3),(5,6,7),(8,9,10)])\n",
    "np.linalg.inv(a)"
   ]
  },
  {
   "cell_type": "code",
   "execution_count": 79,
   "id": "40d3b489-2522-44a9-a5c7-ce022b45dce2",
   "metadata": {},
   "outputs": [
    {
     "data": {
      "text/plain": [
       "0.0"
      ]
     },
     "execution_count": 79,
     "metadata": {},
     "output_type": "execute_result"
    }
   ],
   "source": [
    "d=np.array([(1,2,3),(5,6,7),(8,9,10)])\n",
    "np.linalg.det(d)*"
   ]
  },
  {
   "cell_type": "code",
   "execution_count": 80,
   "id": "44536946-8a9a-4d5a-ac34-550df01a0b2f",
   "metadata": {},
   "outputs": [
    {
     "data": {
      "text/plain": [
       "array([ 1,  2,  3,  5,  6,  7,  8,  9, 10])"
      ]
     },
     "execution_count": 80,
     "metadata": {},
     "output_type": "execute_result"
    }
   ],
   "source": [
    "d=np.array([(1,2,3),(5,6,7),(8,9,10)])\n",
    "np.unique(d)"
   ]
  },
  {
   "cell_type": "code",
   "execution_count": 82,
   "id": "fbd4774b-54a2-48b4-be52-43b63b975210",
   "metadata": {},
   "outputs": [
    {
     "data": {
      "text/plain": [
       "array([ 1,  2,  3,  6,  7,  8,  9, 10])"
      ]
     },
     "execution_count": 82,
     "metadata": {},
     "output_type": "execute_result"
    }
   ],
   "source": [
    "e=np.array([ 1,  2,  3,  8,  6,  7,  8,  9, 10])\n",
    "np.unique(e)"
   ]
  },
  {
   "cell_type": "code",
   "execution_count": 85,
   "id": "da32e5d5-12d5-4820-aaeb-4379f023d31b",
   "metadata": {},
   "outputs": [
    {
     "data": {
      "text/plain": [
       "array([ 1,  1,  1,  2,  2,  2,  3,  3,  3,  8,  8,  8,  6,  6,  6,  7,  7,\n",
       "        7,  8,  8,  8,  9,  9,  9, 10, 10, 10])"
      ]
     },
     "execution_count": 85,
     "metadata": {},
     "output_type": "execute_result"
    }
   ],
   "source": [
    "#repeat\n",
    "e=np.array([ 1,  2,  3,  8,  6,  7,  8,  9, 10])\n",
    "np.repeat(e,3)"
   ]
  },
  {
   "cell_type": "code",
   "execution_count": 88,
   "id": "5bcbfb0e-3a25-41e0-88d7-c090afaf8f7f",
   "metadata": {},
   "outputs": [
    {
     "data": {
      "text/plain": [
       "(array([2], dtype=int64),)"
      ]
     },
     "execution_count": 88,
     "metadata": {},
     "output_type": "execute_result"
    }
   ],
   "source": [
    "#where\n",
    "np.where(e==3)"
   ]
  },
  {
   "cell_type": "code",
   "execution_count": 89,
   "id": "80739c51-6d23-412f-8cc1-902053f6121d",
   "metadata": {},
   "outputs": [
    {
     "data": {
      "text/plain": [
       "8"
      ]
     },
     "execution_count": 89,
     "metadata": {},
     "output_type": "execute_result"
    }
   ],
   "source": [
    "#indexing\n",
    "e[3]"
   ]
  },
  {
   "cell_type": "code",
   "execution_count": 91,
   "id": "b44cc010-d1c5-43bb-948e-01f8b019a6d2",
   "metadata": {},
   "outputs": [
    {
     "data": {
      "text/plain": [
       "array([[5, 6],\n",
       "       [8, 9]])"
      ]
     },
     "execution_count": 91,
     "metadata": {},
     "output_type": "execute_result"
    }
   ],
   "source": [
    "slice=np.array([(1,2,3),\n",
    "                (4,5,6),\n",
    "                (7,8,9)])\n",
    "slice[1:3,1:3]"
   ]
  },
  {
   "cell_type": "code",
   "execution_count": 92,
   "id": "2ddc4f36-3b07-4585-a3f1-cd44b32e6de1",
   "metadata": {},
   "outputs": [
    {
     "data": {
      "text/plain": [
       "array([[2, 3],\n",
       "       [5, 6]])"
      ]
     },
     "execution_count": 92,
     "metadata": {},
     "output_type": "execute_result"
    }
   ],
   "source": [
    "slice[0:2,1:3]"
   ]
  },
  {
   "cell_type": "code",
   "execution_count": 93,
   "id": "80b1a398-91a1-429b-ba46-50d3a2bc2cc9",
   "metadata": {},
   "outputs": [
    {
     "data": {
      "text/plain": [
       "array([[7, 8]])"
      ]
     },
     "execution_count": 93,
     "metadata": {},
     "output_type": "execute_result"
    }
   ],
   "source": [
    "slice[2:4,0:2]"
   ]
  },
  {
   "cell_type": "code",
   "execution_count": 94,
   "id": "4f8508a4-9283-44b9-9dcc-3eb0ea307dba",
   "metadata": {},
   "outputs": [
    {
     "data": {
      "text/plain": [
       "array([55,  6,  7])"
      ]
     },
     "execution_count": 94,
     "metadata": {},
     "output_type": "execute_result"
    }
   ],
   "source": [
    "#1d array slicing\n",
    "a=np.array([55,6,7,9])\n",
    "a[0:3]"
   ]
  },
  {
   "cell_type": "code",
   "execution_count": 95,
   "id": "88e07c72-a863-4551-a5e0-c5f3f4164727",
   "metadata": {},
   "outputs": [
    {
     "data": {
      "text/plain": [
       "array([[90, 22, 30, 75, 69],\n",
       "       [66, 28,  2,  3, 99],\n",
       "       [34, 65, 43,  9, 81],\n",
       "       [18, 82, 61, 70, 20],\n",
       "       [93,  8, 77, 81, 72]])"
      ]
     },
     "execution_count": 95,
     "metadata": {},
     "output_type": "execute_result"
    }
   ],
   "source": [
    "b=np.array([(90,22,30,75,69),(66,28,2,3,99),(34,65,43,9,81),\n",
    "           (18,82,61,70,20),(93,8,77,81,72)])\n",
    "b"
   ]
  },
  {
   "cell_type": "code",
   "execution_count": 98,
   "id": "9657b92e-515d-425d-868d-f2492de2d1ee",
   "metadata": {},
   "outputs": [
    {
     "data": {
      "text/plain": [
       "array([[28,  3],\n",
       "       [82, 70]])"
      ]
     },
     "execution_count": 98,
     "metadata": {},
     "output_type": "execute_result"
    }
   ],
   "source": [
    "b[1:4:2,1:4:2]"
   ]
  },
  {
   "cell_type": "code",
   "execution_count": 99,
   "id": "5a0a10ee-df87-42f6-95f8-8509cf03213d",
   "metadata": {},
   "outputs": [
    {
     "data": {
      "text/plain": [
       "array([[30, 75],\n",
       "       [ 2,  3],\n",
       "       [43,  9],\n",
       "       [61, 70],\n",
       "       [77, 81]])"
      ]
     },
     "execution_count": 99,
     "metadata": {},
     "output_type": "execute_result"
    }
   ],
   "source": [
    "b[:,2:4]"
   ]
  },
  {
   "cell_type": "code",
   "execution_count": 100,
   "id": "fd8fce8b-0498-4a87-8fdb-0f2edd709ca1",
   "metadata": {},
   "outputs": [
    {
     "data": {
      "text/plain": [
       "array([[90, 22, 30, 75, 69],\n",
       "       [66, 28,  2,  3, 99],\n",
       "       [34, 65, 43,  9, 81],\n",
       "       [18, 82, 61, 70, 20],\n",
       "       [93,  8, 77, 81, 72]])"
      ]
     },
     "execution_count": 100,
     "metadata": {},
     "output_type": "execute_result"
    }
   ],
   "source": [
    "b[:,:]"
   ]
  },
  {
   "cell_type": "code",
   "execution_count": null,
   "id": "eb575d39-a96c-4c93-b5e8-252d53a8aa84",
   "metadata": {},
   "outputs": [],
   "source": []
  }
 ],
 "metadata": {
  "kernelspec": {
   "display_name": "Python 3 (ipykernel)",
   "language": "python",
   "name": "python3"
  },
  "language_info": {
   "codemirror_mode": {
    "name": "ipython",
    "version": 3
   },
   "file_extension": ".py",
   "mimetype": "text/x-python",
   "name": "python",
   "nbconvert_exporter": "python",
   "pygments_lexer": "ipython3",
   "version": "3.11.7"
  }
 },
 "nbformat": 4,
 "nbformat_minor": 5
}
